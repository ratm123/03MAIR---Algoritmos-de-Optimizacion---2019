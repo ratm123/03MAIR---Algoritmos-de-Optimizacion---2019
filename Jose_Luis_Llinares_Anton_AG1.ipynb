{
  "nbformat": 4,
  "nbformat_minor": 0,
  "metadata": {
    "colab": {
      "name": "Jose Luis Llinares Anton - AG1.ipynb",
      "provenance": [],
      "collapsed_sections": [],
      "include_colab_link": true
    },
    "kernelspec": {
      "name": "python3",
      "display_name": "Python 3"
    }
  },
  "cells": [
    {
      "cell_type": "markdown",
      "metadata": {
        "id": "view-in-github",
        "colab_type": "text"
      },
      "source": [
        "<a href=\"https://colab.research.google.com/github/ratm123/03MAIR---Algoritmos-de-Optimizacion---2019/blob/master/Jose_Luis_Llinares_Anton_AG1.ipynb\" target=\"_parent\"><img src=\"https://colab.research.google.com/assets/colab-badge.svg\" alt=\"Open In Colab\"/></a>"
      ]
    },
    {
      "cell_type": "markdown",
      "metadata": {
        "id": "zr1WhuYmXRs0",
        "colab_type": "text"
      },
      "source": [
        "AG1. Algoritmos de optimizacion\n",
        "\n",
        "Jose Luis Llinares Anton\n",
        "\n",
        "https://colab.research.google.com/drive/18OlmH7BPoZq1mxmZuU3t4z8uO4jv8xxe\n",
        "\n",
        "\n",
        "https://github.com/ratm123/03MAIR---Algoritmos-de-Optimizacion---2019\n",
        "\n"
      ]
    },
    {
      "cell_type": "markdown",
      "metadata": {
        "id": "Uh7ky8xGpjdN",
        "colab_type": "text"
      },
      "source": [
        "### Problema de divide y venceras. Torres de hanoy\n",
        "\n",
        "\n"
      ]
    },
    {
      "cell_type": "code",
      "metadata": {
        "id": "vvl93-EIXHAB",
        "colab_type": "code",
        "outputId": "98d7aa42-1246-4eed-eba1-94cb259618a9",
        "colab": {
          "base_uri": "https://localhost:8080/",
          "height": 1000
        }
      },
      "source": [
        "def torres_hanoy(N, desde, hasta):\n",
        "  if N == 1:\n",
        "    print(\"Llevar ficha desde {} hasta {}\".format(desde, hasta))\n",
        "  else:\n",
        "    torres_hanoy(N-1, desde, 6-desde-hasta)\n",
        "    print(\"Llevar ficha desde {} hasta {}\".format(desde, hasta))\n",
        "    torres_hanoy(N-1, 6-desde-hasta, hasta)\n",
        "\n",
        "torres_hanoy(6, 1, 3)"
      ],
      "execution_count": 0,
      "outputs": [
        {
          "output_type": "stream",
          "text": [
            "Llevar ficha desde 1 hasta 2\n",
            "Llevar ficha desde 1 hasta 3\n",
            "Llevar ficha desde 2 hasta 3\n",
            "Llevar ficha desde 1 hasta 2\n",
            "Llevar ficha desde 3 hasta 1\n",
            "Llevar ficha desde 3 hasta 2\n",
            "Llevar ficha desde 1 hasta 2\n",
            "Llevar ficha desde 1 hasta 3\n",
            "Llevar ficha desde 2 hasta 3\n",
            "Llevar ficha desde 2 hasta 1\n",
            "Llevar ficha desde 3 hasta 1\n",
            "Llevar ficha desde 2 hasta 3\n",
            "Llevar ficha desde 1 hasta 2\n",
            "Llevar ficha desde 1 hasta 3\n",
            "Llevar ficha desde 2 hasta 3\n",
            "Llevar ficha desde 1 hasta 2\n",
            "Llevar ficha desde 3 hasta 1\n",
            "Llevar ficha desde 3 hasta 2\n",
            "Llevar ficha desde 1 hasta 2\n",
            "Llevar ficha desde 3 hasta 1\n",
            "Llevar ficha desde 2 hasta 3\n",
            "Llevar ficha desde 2 hasta 1\n",
            "Llevar ficha desde 3 hasta 1\n",
            "Llevar ficha desde 3 hasta 2\n",
            "Llevar ficha desde 1 hasta 2\n",
            "Llevar ficha desde 1 hasta 3\n",
            "Llevar ficha desde 2 hasta 3\n",
            "Llevar ficha desde 1 hasta 2\n",
            "Llevar ficha desde 3 hasta 1\n",
            "Llevar ficha desde 3 hasta 2\n",
            "Llevar ficha desde 1 hasta 2\n",
            "Llevar ficha desde 1 hasta 3\n",
            "Llevar ficha desde 2 hasta 3\n",
            "Llevar ficha desde 2 hasta 1\n",
            "Llevar ficha desde 3 hasta 1\n",
            "Llevar ficha desde 2 hasta 3\n",
            "Llevar ficha desde 1 hasta 2\n",
            "Llevar ficha desde 1 hasta 3\n",
            "Llevar ficha desde 2 hasta 3\n",
            "Llevar ficha desde 2 hasta 1\n",
            "Llevar ficha desde 3 hasta 1\n",
            "Llevar ficha desde 3 hasta 2\n",
            "Llevar ficha desde 1 hasta 2\n",
            "Llevar ficha desde 3 hasta 1\n",
            "Llevar ficha desde 2 hasta 3\n",
            "Llevar ficha desde 2 hasta 1\n",
            "Llevar ficha desde 3 hasta 1\n",
            "Llevar ficha desde 2 hasta 3\n",
            "Llevar ficha desde 1 hasta 2\n",
            "Llevar ficha desde 1 hasta 3\n",
            "Llevar ficha desde 2 hasta 3\n",
            "Llevar ficha desde 1 hasta 2\n",
            "Llevar ficha desde 3 hasta 1\n",
            "Llevar ficha desde 3 hasta 2\n",
            "Llevar ficha desde 1 hasta 2\n",
            "Llevar ficha desde 1 hasta 3\n",
            "Llevar ficha desde 2 hasta 3\n",
            "Llevar ficha desde 2 hasta 1\n",
            "Llevar ficha desde 3 hasta 1\n",
            "Llevar ficha desde 2 hasta 3\n",
            "Llevar ficha desde 1 hasta 2\n",
            "Llevar ficha desde 1 hasta 3\n",
            "Llevar ficha desde 2 hasta 3\n"
          ],
          "name": "stdout"
        }
      ]
    },
    {
      "cell_type": "markdown",
      "metadata": {
        "id": "CLkn6R7un3St",
        "colab_type": "text"
      },
      "source": [
        "#### Problema: Cambio de monedas\n",
        "Buscar las monedas para completar la cantidad con el sistema [25, 10, 5, 1]\n",
        " - Definimos la función : cambio_monedas con dos parámetros: Cantidad a calcular y sistema monetario\n",
        " - Inicializamos la variable SOLUCION a cero con tantos valores como tipos de monedas.\n",
        " - Inicializamos la variable VALOR_ACUMULADO para contener el valor acumulado total\n",
        " - Recorremos todas las monedas en orden decreciente en valor (voracidad).\n",
        " - Calculamos el máximo de monedas posibles en cada iteración:\n",
        "   monedas = int( (CANTIDAD-VALOR_ACULULADO)/SISTEMA[i])\n",
        " - Actualizamos: SOLUCION y VALOR_ACUMULAD\n",
        " - Si llegamos a la cantidad devolvemos la solución:\n",
        "   if VALOR_ACULULADO == CANTIDAD: return SOLUCION"
      ]
    },
    {
      "cell_type": "code",
      "metadata": {
        "id": "qMXHeZpUn4WW",
        "colab_type": "code",
        "outputId": "ad147416-bfb9-4a1a-9f1e-30eb57aecfc2",
        "colab": {
          "base_uri": "https://localhost:8080/",
          "height": 34
        }
      },
      "source": [
        "def cambio_monedas(cantidad, sistema_monetario):\n",
        "    SOLUCION = [0]*len(sistema_monetario)\n",
        "    VALOR_ACUMULADO = 0\n",
        "    for i, x in enumerate(sistema_monetario):\n",
        "      monedas = int((cantidad-VALOR_ACUMULADO)/x)\n",
        "      SOLUCION[i] = monedas\n",
        "      VALOR_ACUMULADO += monedas*x\n",
        "      if VALOR_ACUMULADO == cantidad:\n",
        "        return SOLUCION\n",
        "\n",
        "print(cambio_monedas(156, [25,10,5,1]))"
      ],
      "execution_count": 0,
      "outputs": [
        {
          "output_type": "stream",
          "text": [
            "[6, 0, 1, 1]\n"
          ],
          "name": "stdout"
        }
      ]
    },
    {
      "cell_type": "markdown",
      "metadata": {
        "id": "d9ZIt9zPtWwL",
        "colab_type": "text"
      },
      "source": [
        "#### Problema: Problema de las 4 reinas"
      ]
    },
    {
      "cell_type": "code",
      "metadata": {
        "id": "LHwOUs-AoZTr",
        "colab_type": "code",
        "outputId": "2d784fa2-884d-46a7-d51b-c47a301c10c2",
        "colab": {
          "base_uri": "https://localhost:8080/",
          "height": 238
        }
      },
      "source": [
        "def reinas(N, solucion, etapa):\n",
        "  for i in range(1, N+1):\n",
        "    solucion[etapa] = i  \n",
        "    if es_prometedora(solucion,etapa):\n",
        "      if etapa == N-1:\n",
        "        print(\"\\nLa solucion es: {}\".format(solucion))\n",
        "        escribe(solucion)\n",
        "      else:\n",
        "        reinas(N,solucion,etapa+1)\n",
        "    else:\n",
        "      None\n",
        "    \n",
        "    solucion[etapa] = 0\n",
        "\n",
        "def escribe(solucion):\n",
        "  tam_tablero = len(solucion)\n",
        "  for x in range(tam_tablero):\n",
        "    print(\" \")\n",
        "    for i in range(tam_tablero):\n",
        "      if solucion[i] == x+1:\n",
        "        print(\" ♚ \" , end=\"\")\n",
        "      else:\n",
        "        print(\" - \", end=\"\")\n",
        "\n",
        "def es_prometedora(solucion,etapa):\n",
        "  for i in range(etapa+1):\n",
        "    if solucion.count(solucion[i])>1:\n",
        "      return False\n",
        "    for j in range(i+1, etapa+1):\n",
        "      if abs(i-j) == abs(solucion[i]-solucion[j]):\n",
        "        return False\n",
        "\n",
        "  return True\n",
        "\n",
        "\n",
        "N = 4\n",
        "solucion = [0]*N\n",
        "etapa = 0\n",
        "reinas(N, solucion, etapa)"
      ],
      "execution_count": 0,
      "outputs": [
        {
          "output_type": "stream",
          "text": [
            "\n",
            "La solucion es: [2, 4, 1, 3]\n",
            " \n",
            " -  -  ♚  -  \n",
            " ♚  -  -  -  \n",
            " -  -  -  ♚  \n",
            " -  ♚  -  - \n",
            "La solucion es: [3, 1, 4, 2]\n",
            " \n",
            " -  ♚  -  -  \n",
            " -  -  -  ♚  \n",
            " ♚  -  -  -  \n",
            " -  -  ♚  - "
          ],
          "name": "stdout"
        }
      ]
    },
    {
      "cell_type": "markdown",
      "metadata": {
        "id": "na3mD8U6O06A",
        "colab_type": "text"
      },
      "source": [
        "### Problema: Encontrar los dos puntos más cercanos\n",
        "#### Aplicando fuerza bruta 1D - Tenemos un coste computacional de **O(n^2)**"
      ]
    },
    {
      "cell_type": "code",
      "metadata": {
        "id": "Jo8g-WUJuN47",
        "colab_type": "code",
        "colab": {
          "base_uri": "https://localhost:8080/",
          "height": 34
        },
        "outputId": "cc784d8d-2c5a-4618-d697-9e8f55434593"
      },
      "source": [
        "import random\n",
        "import math\n",
        "lista_1D = [random.randrange(1, 10000) for x in range(1000)]\n",
        "#eliminamos duplicados para que no sea cero\n",
        "lista_1D = list(dict.fromkeys(lista_1D))\n",
        "lista_1D = sorted(lista_1D)\n",
        "\n",
        "\n",
        "## funcion distancia de wikipedia\n",
        "def distancia_1d(value_1, value_2):\n",
        "    return (value_2*value_1)/2\n",
        "\n",
        "## fuerza bruta\n",
        "minDist = float(\"inf\")\n",
        "closestPair = (0, 0)\n",
        "for posi in range(0, len(lista_1D)-1):\n",
        "    for posj in range(posi+1, len(lista_1D)):\n",
        "        dist = distancia_1d(lista_1D[posi], lista_1D[posj])\n",
        "        if dist < minDist:\n",
        "            minDist = dist\n",
        "            closestPair = (posi, posj)\n",
        "            \n",
        "print(\"Valor de los puntos: {}, {}\".format(lista_1D[closestPair[0]], lista_1D[closestPair[1]]))\n",
        "\n"
      ],
      "execution_count": 1,
      "outputs": [
        {
          "output_type": "stream",
          "text": [
            "Valor de los puntos: 6, 20\n"
          ],
          "name": "stdout"
        }
      ]
    },
    {
      "cell_type": "markdown",
      "metadata": {
        "id": "TVXI5dG-PAzQ",
        "colab_type": "text"
      },
      "source": [
        "#### Aplicando divide y venceras 1D - Tenemos un coste computacional de **O(n log n)**"
      ]
    },
    {
      "cell_type": "code",
      "metadata": {
        "id": "cHaaFETUO32c",
        "colab_type": "code",
        "colab": {
          "base_uri": "https://localhost:8080/",
          "height": 34
        },
        "outputId": "b3d8ec88-9f7c-4e91-ec2c-91c52e78b3ba"
      },
      "source": [
        "lista_1D = sorted(lista_1D)\n",
        "\n",
        "def divide(puntos):\n",
        "    if len(puntos) == 2:\n",
        "        return distancia_1d(puntos[0], puntos[1]), puntos\n",
        "    elif len(puntos) == 1:\n",
        "        return float('Inf'), puntos\n",
        "    else:\n",
        "        mitad_tam = int(len(puntos)/2)\n",
        "        mitad_izq = puntos[0:mitad_tam+1]\n",
        "        mitad_der = puntos[mitad_tam:]\n",
        "        ## cogemos el minimo\n",
        "        if divide(mitad_izq)[0] < divide(mitad_der)[0]:\n",
        "            minimo = divide(mitad_izq)\n",
        "        else:\n",
        "            minimo = divide(mitad_der)\n",
        "        return minimo\n",
        "\n",
        "def dyv(puntos):\n",
        "    mitad_tam = int(len(puntos)/2)\n",
        "    mitad_izq = puntos[0:mitad_tam+1]\n",
        "    mitad_der = puntos[mitad_tam:]\n",
        "    ## cogemos el minimo\n",
        "    if divide(mitad_izq)[0] < divide(mitad_der)[0]:\n",
        "        minimo = divide(mitad_izq)\n",
        "    else:\n",
        "        minimo = divide(mitad_der)\n",
        "    ## Cogemos los mas cercanos a la linea central y comprbamos si es menor que el valor que tenemos\n",
        "    nearLine = list(filter(lambda x: x > mitad_tam - minimo[0] and x < mitad_tam + minimo[0], lista_1D))\n",
        "    minimo =  min([divide(nearLine), minimo])\n",
        "    return minimo\n",
        "\n",
        "print(dyv(lista_1D))"
      ],
      "execution_count": 2,
      "outputs": [
        {
          "output_type": "stream",
          "text": [
            "(60.0, [6, 20])\n"
          ],
          "name": "stdout"
        }
      ]
    },
    {
      "cell_type": "markdown",
      "metadata": {
        "id": "4sq_VQilPFfc",
        "colab_type": "text"
      },
      "source": [
        "#### Extendido a 2D"
      ]
    },
    {
      "cell_type": "code",
      "metadata": {
        "id": "MX7MerACPDXA",
        "colab_type": "code",
        "colab": {
          "base_uri": "https://localhost:8080/",
          "height": 34
        },
        "outputId": "81f60f80-4c9d-4b75-9ed8-23f65e945eb1"
      },
      "source": [
        "lista_2D = [(random.randrange(1, 10000),random.randrange(1, 10000)) for x in range(1000)]\n",
        "lista_2D = sorted(lista_2D)\n",
        "\n",
        "\n",
        "\n",
        "## funcion distancia euclidea\n",
        "def distancia_2d(value_1, value_2):\n",
        "    return math.sqrt((value_2[0]-value_1[0])**2+(value_2[1]-value_1[1])**2)\n",
        "\n",
        "\n",
        "def divide(puntos):\n",
        "    if len(puntos) == 2:\n",
        "        return distancia_2d(puntos[0], puntos[1]), puntos\n",
        "    elif len(puntos) == 1:\n",
        "        return float('Inf'), puntos\n",
        "    else:\n",
        "        mitad_tam = int(len(puntos)/2)\n",
        "        mitad_izq = puntos[0:mitad_tam+1]\n",
        "        mitad_der = puntos[mitad_tam:]\n",
        "        ## cogemos el minimo\n",
        "        if divide(mitad_izq)[0] < divide(mitad_der)[0]:\n",
        "            minimo = divide(mitad_izq)\n",
        "        else:\n",
        "            minimo = divide(mitad_der)\n",
        "        return minimo\n",
        "\n",
        "def dyv(puntos):\n",
        "    mitad_tam = int(len(puntos)/2)\n",
        "    mitad_izq = puntos[0:mitad_tam+1]\n",
        "    mitad_der = puntos[mitad_tam:]\n",
        "    ## cogemos el minimo\n",
        "    if divide(mitad_izq)[0] < divide(mitad_der)[0]:\n",
        "        minimo = divide(mitad_izq)\n",
        "    else:\n",
        "        minimo = divide(mitad_der)\n",
        "    ## Cogemos los mas cercanos a la linea central y comprbamos si es menor que el valor que tenemos\n",
        "    nearLine = list(filter(lambda x: x[0] > mitad_tam - minimo[0] and x[0] < mitad_tam + minimo[0], lista_2D))\n",
        "    minimo =  min([divide(nearLine), minimo])\n",
        "    return minimo\n",
        "\n",
        "print(dyv(lista_2D))"
      ],
      "execution_count": 3,
      "outputs": [
        {
          "output_type": "stream",
          "text": [
            "(3.605551275463989, [(1139, 3819), (1141, 3816)])\n"
          ],
          "name": "stdout"
        }
      ]
    },
    {
      "cell_type": "markdown",
      "metadata": {
        "id": "G9nSSR7iPQTu",
        "colab_type": "text"
      },
      "source": [
        "#### Extendido a 3D\n"
      ]
    },
    {
      "cell_type": "code",
      "metadata": {
        "id": "BadEEjsZPIrT",
        "colab_type": "code",
        "colab": {
          "base_uri": "https://localhost:8080/",
          "height": 34
        },
        "outputId": "b5c4078a-e6a4-4a92-d273-b03f00b6511c"
      },
      "source": [
        "lista_3D = [(random.randrange(1, 10000),random.randrange(1, 10000),random.randrange(1, 10000)) for x in range(1000)]\n",
        "lista_3D = sorted(lista_3D)\n",
        "\n",
        "\n",
        "## funcion distancia euclidea extendida\n",
        "def distancia_3d(value_1, value_2):\n",
        "    return math.sqrt((value_2[0]-value_1[0])**2+(value_2[1]-value_1[1])**2+(value_2[2]-value_1[2])**2)\n",
        "\n",
        "def divide(puntos):\n",
        "    if len(puntos) == 2:\n",
        "        return distancia_3d(puntos[0], puntos[1]), puntos\n",
        "    elif len(puntos) == 1:\n",
        "        return float('Inf'), puntos\n",
        "    else:\n",
        "        mitad_tam = int(len(puntos)/2)\n",
        "        mitad_izq = puntos[0:mitad_tam+1]\n",
        "        mitad_der = puntos[mitad_tam:]\n",
        "        ## cogemos el minimo\n",
        "        if divide(mitad_izq)[0] < divide(mitad_der)[0]:\n",
        "            minimo = divide(mitad_izq)\n",
        "        else:\n",
        "            minimo = divide(mitad_der)\n",
        "        return minimo\n",
        "\n",
        "def dyv(puntos):\n",
        "    mitad_tam = int(len(puntos)/2)\n",
        "    mitad_izq = puntos[0:mitad_tam+1]\n",
        "    mitad_der = puntos[mitad_tam:]\n",
        "    ## cogemos el minimo\n",
        "    if divide(mitad_izq)[0] < divide(mitad_der)[0]:\n",
        "        minimo = divide(mitad_izq)\n",
        "    else:\n",
        "        minimo = divide(mitad_der)\n",
        "    ## Cogemos los mas cercanos a la linea central y comprbamos si es menor que el valor que tenemos\n",
        "    nearLine = list(filter(lambda x: x[0] > mitad_tam - minimo[0] and x[0] < mitad_tam + minimo[0], lista_3D))\n",
        "    minimo =  min([divide(nearLine), minimo])\n",
        "    return minimo\n",
        "\n",
        "print(dyv(lista_3D))"
      ],
      "execution_count": 4,
      "outputs": [
        {
          "output_type": "stream",
          "text": [
            "(220.22942582679545, [(436, 2859, 3791), (445, 2901, 4007)])\n"
          ],
          "name": "stdout"
        }
      ]
    },
    {
      "cell_type": "code",
      "metadata": {
        "id": "ryZ2oVf1PTNb",
        "colab_type": "code",
        "colab": {}
      },
      "source": [
        ""
      ],
      "execution_count": 0,
      "outputs": []
    }
  ]
}