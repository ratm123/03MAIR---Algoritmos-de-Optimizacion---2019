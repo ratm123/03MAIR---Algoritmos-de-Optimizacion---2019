{
  "nbformat": 4,
  "nbformat_minor": 0,
  "metadata": {
    "colab": {
      "name": "Jose Luis Llinares Anton - AG2.ipynb",
      "provenance": [],
      "collapsed_sections": [],
      "authorship_tag": "ABX9TyOWPdJjZGHjuIRSbwOhYv8A",
      "include_colab_link": true
    },
    "kernelspec": {
      "name": "python3",
      "display_name": "Python 3"
    }
  },
  "cells": [
    {
      "cell_type": "markdown",
      "metadata": {
        "id": "view-in-github",
        "colab_type": "text"
      },
      "source": [
        "<a href=\"https://colab.research.google.com/github/ratm123/03MAIR---Algoritmos-de-Optimizacion---2019/blob/master/AG2/Jose_Luis_Llinares_Anton_AG2.ipynb\" target=\"_parent\"><img src=\"https://colab.research.google.com/assets/colab-badge.svg\" alt=\"Open In Colab\"/></a>"
      ]
    },
    {
      "cell_type": "markdown",
      "metadata": {
        "id": "em0aEWOHS6jr",
        "colab_type": "text"
      },
      "source": [
        "AG2. Algoritmos de optimizacion\n",
        "\n",
        "Jose Luis Llinares Anton\n",
        "\n",
        "https://colab.research.google.com/drive/1mML16AwuFEfR9jVMd7jDaHvcYc1Em-gm\n",
        "\n",
        "\n",
        "https://github.com/ratm123/03MAIR---Algoritmos-de-Optimizacion---2019\n"
      ]
    },
    {
      "cell_type": "markdown",
      "metadata": {
        "id": "AffSrH8UT91-",
        "colab_type": "text"
      },
      "source": [
        "# Programación dinámica\n",
        "## Problema 1. Viaje por el rio"
      ]
    },
    {
      "cell_type": "code",
      "metadata": {
        "id": "TCyFgGakS2bi",
        "colab_type": "code",
        "colab": {
          "base_uri": "https://localhost:8080/",
          "height": 54
        },
        "outputId": "eadba6c5-40a4-4d9a-e6c2-b71b91260744"
      },
      "source": [
        "def precios(tarifas):\n",
        "    N = len(tarifas[0])\n",
        "    precios = [[9999]*N for i in [9999]*N]\n",
        "    ruta = [[\"\"]*N for i in [\"\"]*N]\n",
        "    \n",
        "    for i in range(N-1):\n",
        "        for j in range(i+1, N):\n",
        "            MIN = tarifas[i][j]\n",
        "            ruta[i][j] = i\n",
        "            \n",
        "            for k in range(i, j):\n",
        "                if precios[i][k] + tarifas[k][j] < MIN:\n",
        "                    MIN = min(MIN, precios[i][k] + tarifas[k][j])\n",
        "                    ruta[i][j] = k\n",
        "                precios[i][j] = MIN\n",
        "                \n",
        "    return precios, ruta\n",
        "\n",
        "TARIFAS = [\n",
        "[0,5,4,3,999,999,999],\n",
        "[999,0,999,2,3,999,11],\n",
        "[999,999, 0,1,999,4,10],\n",
        "[999,999,999, 0,5,6,9],\n",
        "[999,999, 999,999,0,999,4],\n",
        "[999,999, 999,999,999,0,3],\n",
        "[999,999,999,999,999,999,0]\n",
        "]\n",
        "\n",
        "PRECIOS, RUTA = precios(TARIFAS)\n",
        "print(PRECIOS, RUTA)"
      ],
      "execution_count": 20,
      "outputs": [
        {
          "output_type": "stream",
          "text": [
            "[[9999, 5, 4, 3, 8, 8, 11], [9999, 9999, 999, 2, 3, 8, 7], [9999, 9999, 9999, 1, 6, 4, 7], [9999, 9999, 9999, 9999, 5, 6, 9], [9999, 9999, 9999, 9999, 9999, 999, 4], [9999, 9999, 9999, 9999, 9999, 9999, 3], [9999, 9999, 9999, 9999, 9999, 9999, 9999]] [['', 0, 0, 0, 1, 2, 5], ['', '', 1, 1, 1, 3, 4], ['', '', '', 2, 3, 2, 5], ['', '', '', '', 3, 3, 3], ['', '', '', '', '', 4, 4], ['', '', '', '', '', '', 5], ['', '', '', '', '', '', '']]\n"
          ],
          "name": "stdout"
        }
      ]
    },
    {
      "cell_type": "code",
      "metadata": {
        "id": "wd4E-fQhS5nd",
        "colab_type": "code",
        "colab": {
          "base_uri": "https://localhost:8080/",
          "height": 34
        },
        "outputId": "7399a192-c53d-4435-fdaa-85773e2c3afe"
      },
      "source": [
        "def calcular_ruta(RUTA, desde, hasta):\n",
        "  if desde == hasta:\n",
        "    return desde\n",
        "  else:\n",
        "    return str(calcular_ruta(RUTA,desde,RUTA[desde][hasta])) + ' - ' + str(RUTA[desde][hasta])\n",
        "  \n",
        "calcular_ruta(RUTA, 0, 6)"
      ],
      "execution_count": 19,
      "outputs": [
        {
          "output_type": "execute_result",
          "data": {
            "text/plain": [
              "'0 - 0 - 2 - 5'"
            ]
          },
          "metadata": {
            "tags": []
          },
          "execution_count": 19
        }
      ]
    },
    {
      "cell_type": "markdown",
      "metadata": {
        "id": "Q83DoOD5UFHF",
        "colab_type": "text"
      },
      "source": [
        "## Problema 2. Asignación de tareas"
      ]
    },
    {
      "cell_type": "code",
      "metadata": {
        "id": "NqmtTcpaUC7f",
        "colab_type": "code",
        "colab": {
          "base_uri": "https://localhost:8080/",
          "height": 51
        },
        "outputId": "75c0fa31-341f-4d15-8a45-1fe9cd6215c1"
      },
      "source": [
        "#4 agentes, 4 tareas\n",
        "COSTES=[[11,12,18,40],\n",
        "        [14,15,13,22],\n",
        "        [11,17,19,23],\n",
        "        [17,14,20,28]]\n",
        "\n",
        "def valor(S, COSTES):\n",
        "    VALOR = 0\n",
        "    for i in range(len(S)):\n",
        "        VALOR += COSTES[S[i]][i]\n",
        "    return VALOR\n",
        "    \n",
        "print(valor((0, 1, 2, 3), COSTES))\n",
        "\n",
        "import itertools\n",
        "def fuerza_bruta(COSTES):\n",
        "    mejor_valor = 10e10\n",
        "    mejor_solucion = ()\n",
        "  \n",
        "    for s in list(itertools.permutations(range(len(COSTES)))):\n",
        "        valor_temp = valor(s, COSTES)\n",
        "        if valor_temp < mejor_valor:\n",
        "            mejor_valor = valor_temp\n",
        "            mejor_solucion = s\n",
        "      \n",
        "    print(\"La mejor solución es: \", mejor_solucion, \"con valor:\", mejor_valor)\n",
        "      \n",
        "  \n",
        "  \n",
        "fuerza_bruta(COSTES)"
      ],
      "execution_count": 18,
      "outputs": [
        {
          "output_type": "stream",
          "text": [
            "73\n",
            "La mejor solución es:  (0, 3, 1, 2) con valor: 61\n"
          ],
          "name": "stdout"
        }
      ]
    },
    {
      "cell_type": "markdown",
      "metadata": {
        "id": "dn76eO_qUJ9a",
        "colab_type": "text"
      },
      "source": [
        "### Función para estimar una cota inferior para una solución parcial:"
      ]
    },
    {
      "cell_type": "code",
      "metadata": {
        "id": "vfck5gkOUGy5",
        "colab_type": "code",
        "colab": {}
      },
      "source": [
        "def CI(S, COSTES):\n",
        "    VALOR = 0\n",
        "    for i in range(len(S)):\n",
        "        VALOR += COSTES[i][S[i]]\n",
        "        \n",
        "    ## estimacion\n",
        "    for i in range(len(COSTES)):\n",
        "        if i not in S:\n",
        "            VALOR += min([COSTES[j][i] for j in range(len(S), len(COSTES))])\n",
        "    return VALOR"
      ],
      "execution_count": 0,
      "outputs": []
    },
    {
      "cell_type": "markdown",
      "metadata": {
        "id": "cyfTgJYkUNc9",
        "colab_type": "text"
      },
      "source": [
        "### Función para ramificar:\n"
      ]
    },
    {
      "cell_type": "code",
      "metadata": {
        "id": "VzotQDwFUI0e",
        "colab_type": "code",
        "colab": {}
      },
      "source": [
        "def crear_hijos(NODO, N):\n",
        "    HIJOS = []\n",
        "    for i in range(N):\n",
        "        if i not in NODO:\n",
        "            HIJOS.append({'s': NODO+(i,)})\n",
        "    return HIJOS"
      ],
      "execution_count": 0,
      "outputs": []
    },
    {
      "cell_type": "markdown",
      "metadata": {
        "id": "IWz1Tap0UQ3Q",
        "colab_type": "text"
      },
      "source": [
        "### Funcion principal:"
      ]
    },
    {
      "cell_type": "code",
      "metadata": {
        "id": "697_CmVZUPL-",
        "colab_type": "code",
        "colab": {
          "base_uri": "https://localhost:8080/",
          "height": 34
        },
        "outputId": "c400bbe2-f81f-412e-f02c-f088dba72ee3"
      },
      "source": [
        "def ramificacion_y_poda(COSTES):\n",
        "    DIMENSION = len(COSTES)  \n",
        "    MEJOR_SOLUCION=tuple( i for i in range(len(COSTES)) )\n",
        "    CotaSup = valor(MEJOR_SOLUCION,COSTES)\n",
        "\n",
        "    NODOS=[]\n",
        "    NODOS.append({'s':(), 'ci':CI((),COSTES)} )\n",
        "    iteracion = 0\n",
        "\n",
        "    while( len(NODOS) > 0):\n",
        "        iteracion +=1\n",
        "        nodo_prometedor = [ min(NODOS, key=lambda x:x['ci']) ][0]['s']\n",
        "        #Ramificacion\n",
        "        #Se generan los hijos\n",
        "        HIJOS =[ {'s':x['s'], 'ci':CI(x['s'], COSTES)   } for x in crear_hijos(nodo_prometedor, DIMENSION) ]\n",
        "        NODO_FINAL = [x for x in HIJOS if len(x['s']) == DIMENSION  ]\n",
        "        if len(NODO_FINAL ) >0: \n",
        "          if NODO_FINAL[0]['ci'] < CotaSup:\n",
        "            CotaSup = NODO_FINAL[0]['ci']\n",
        "            MEJOR_SOLUCION = NODO_FINAL\n",
        "        #Poda\n",
        "        HIJOS=[x for x in HIJOS if x['ci']<CotaSup]\n",
        "\n",
        "        #Añadimos los hijos \n",
        "        NODOS.extend(HIJOS) \n",
        "\n",
        "        #Eliminamos el nodo ramificado\n",
        "        NODOS =  [x for x in NODOS if x['s'] != nodo_prometedor]\n",
        "\n",
        "    print(\"La solución final es: \", MEJOR_SOLUCION, \" en \", iteracion, \" iteraciones\", \" para dimension: \", DIMENSION)\n",
        "\n",
        "ramificacion_y_poda(COSTES)"
      ],
      "execution_count": 15,
      "outputs": [
        {
          "output_type": "stream",
          "text": [
            "La solución final es:  [{'s': (0, 2, 3, 1), 'ci': 61}]  en  14  iteraciones  para dimension:  4\n"
          ],
          "name": "stdout"
        }
      ]
    },
    {
      "cell_type": "code",
      "metadata": {
        "id": "7O9JhsmLUS06",
        "colab_type": "code",
        "colab": {}
      },
      "source": [
        "  "
      ],
      "execution_count": 0,
      "outputs": []
    }
  ]
}