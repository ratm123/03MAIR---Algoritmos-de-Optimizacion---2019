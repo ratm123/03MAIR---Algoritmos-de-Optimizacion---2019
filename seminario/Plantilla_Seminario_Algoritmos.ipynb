{
  "nbformat": 4,
  "nbformat_minor": 0,
  "metadata": {
    "colab": {
      "name": "Plantilla_Seminario_Algoritmos.ipynb",
      "provenance": [],
      "collapsed_sections": [],
      "include_colab_link": true
    },
    "kernelspec": {
      "name": "python3",
      "display_name": "Python 3"
    }
  },
  "cells": [
    {
      "cell_type": "markdown",
      "metadata": {
        "id": "view-in-github",
        "colab_type": "text"
      },
      "source": [
        "<a href=\"https://colab.research.google.com/github/ratm123/03MAIR---Algoritmos-de-Optimizacion---2019/blob/master/seminario/Plantilla_Seminario_Algoritmos.ipynb\" target=\"_parent\"><img src=\"https://colab.research.google.com/assets/colab-badge.svg\" alt=\"Open In Colab\"/></a>"
      ]
    },
    {
      "cell_type": "markdown",
      "metadata": {
        "id": "hVbXYX-RfPWh",
        "colab_type": "text"
      },
      "source": [
        "# Algoritmos de optimización - Seminario<br>\n",
        "Nombre y Apellidos:   <br>\n",
        "Url: https://github.com/.../03MAIR---Algoritmos-de-Optimizacion---2019/tree/master/SEMINARIO<br>\n",
        "Problema:\n",
        ">3. Combinar cifras y operaciones\n",
        "\n",
        "Descripción del problema:(copiar enunciado)\n",
        "El problema consiste en analizar el siguiente problema y diseñar un algoritmo que lo resuelva.\n",
        "\n",
        "Disponemos de las 9 cifras del 1 al 9 (excluimos el cero) y de los 4 signos básicos de las operaciones fundamentales: suma(+), resta(-), multiplicación(*) y división(/)\n",
        "\n",
        "Debemos combinarlos alternativamente sin repetir ninguno de ellos para obtener una cantidad dada. Un ejemplo sería para obtener el 4:\n",
        "```\n",
        "    4+2-6/3*1 = 4\n",
        "```\n",
        "Debe analizarse el problema para encontrar todos los valores enteros posibles planteando las siguientes cuestiones:\n",
        "- ¿Qué valor máximo y mínimo se pueden obtener según las condiciones del problema?\n",
        "- ¿Es posible encontrar todos los valores enteros posibles entre dicho mínimo y máximo?\n",
        "\n",
        "• Nota: Es posible usar la función de python “eval” para evaluar una expresión:\n",
        "\n",
        "(*) La respuesta es obligatoria\n",
        "\n",
        "\n",
        "\n",
        "\n",
        "\n",
        "                                        "
      ]
    },
    {
      "cell_type": "markdown",
      "metadata": {
        "id": "3_-exlrTgLd-",
        "colab_type": "text"
      },
      "source": [
        "(*)¿Cuantas posibilidades hay sin tener en cuenta las restricciones?<br>\n",
        "\n",
        "\n",
        "\n",
        "¿Cuantas posibilidades hay teniendo en cuenta todas las restricciones.\n",
        "\n",
        "\n"
      ]
    },
    {
      "cell_type": "markdown",
      "metadata": {
        "id": "WfCUqJyKhPcw",
        "colab_type": "text"
      },
      "source": [
        "Respuesta"
      ]
    },
    {
      "cell_type": "markdown",
      "metadata": {
        "id": "iq6Fe32MgpDX",
        "colab_type": "text"
      },
      "source": [
        "#### ¿Qué valor máximo y mínimo se pueden obtener según las condiciones del problema?\n",
        "\n",
        "Teniendo en cuenta que ningun numero ni ninguna operacion fundamental se puede repetir, esto nos limita a que como mucho podremos utilizar 5 valores numericos (al disponer solo de 4 operaciones). Por lo que el valor maximo y minimo que podriamos obtener viene limitado por esto. Siendo:\n",
        "```\n",
        "Valor maximo: 9*8+7/1-2 = 77\n",
        "Valor minimo: Habran varias combinaciones posibles que nos devuelvan un resultado igual a cero o menor. Usando el algoritmo implementado mas abajo, se concluye que el menor valor que se puede obtener es -69. Por ejemplo:\n",
        "1+4/2-9*8 = -69\n",
        "```\n",
        "\n",
        "#### ¿Es posible encontrar todos los valores enteros posibles entre dicho mínimo y máximo?\n",
        "Si, lo hemos podido comprobar en un apartado siguiente de la practica."
      ]
    },
    {
      "cell_type": "markdown",
      "metadata": {
        "id": "dzynfVJahHoY",
        "colab_type": "text"
      },
      "source": [
        "Modelo para el espacio de soluciones<br>\n",
        "(*) ¿Cual es la estructura de datos que mejor se adapta al problema? Argumentalo.(Es posible que hayas elegido una al principio y veas la necesidad de cambiar, arguentalo)\n"
      ]
    },
    {
      "cell_type": "markdown",
      "metadata": {
        "id": "xFIJrOwKi2Ti",
        "colab_type": "text"
      },
      "source": [
        "Respuesta"
      ]
    },
    {
      "cell_type": "markdown",
      "metadata": {
        "id": "38c-7-ejhJmA",
        "colab_type": "text"
      },
      "source": [
        "La estructura de datos idonea para este problema, en mi opiniones es una **lista**. En la que almacenaremos los elementos numericos 1...9 en formato **String**, y los operadores tambien se almacenaran como **String**. Asi resultará mas facil posteriormente la concatenación para usar el **eval**."
      ]
    },
    {
      "cell_type": "markdown",
      "metadata": {
        "id": "7Z9U2W7bi-XS",
        "colab_type": "text"
      },
      "source": [
        "Según el modelo para el espacio de soluciones<br>\n",
        "(*)¿Cual es la función objetivo?\n",
        "\n",
        "(*)¿Es un problema de maximización o minimización?"
      ]
    },
    {
      "cell_type": "markdown",
      "metadata": {
        "id": "hBalWLM7j1_d",
        "colab_type": "text"
      },
      "source": [
        "Respuesta"
      ]
    },
    {
      "cell_type": "markdown",
      "metadata": {
        "id": "pDA-rg3Gj5Lz",
        "colab_type": "text"
      },
      "source": [
        "#### ¿Cual es la función objetivo?\n",
        "La **función objetivo** sera:\n",
        "```\n",
        "x1(op1)x2(op2)x3(op3)x4(op4)x5 = y\n",
        "```\n",
        "\n",
        "Siendo Xn, el valor numerico comprendido entre 1 y 9, que no puede repetirse.\n",
        "\n",
        "Y Siendo Opn, el operador aritmetico que no puede repetirse.\n",
        "\n",
        "\n",
        "#### ¿Es un problema de maximización o minimización?\n",
        "Podemos concluir que es un problema de minimización, ya que lo que pretendemos es buscar una posible solución lo más rapido posible, en la que el valor de la funcion sea igual a Y."
      ]
    },
    {
      "cell_type": "markdown",
      "metadata": {
        "id": "rlnTYgY1j6I2",
        "colab_type": "text"
      },
      "source": [
        "Diseña un algoritmo para resolver el problema por fuerza bruta"
      ]
    },
    {
      "cell_type": "markdown",
      "metadata": {
        "id": "70rDgxYXkC8r",
        "colab_type": "text"
      },
      "source": [
        "Respuesta"
      ]
    },
    {
      "cell_type": "code",
      "metadata": {
        "id": "CJb5sQ0qkENy",
        "colab_type": "code",
        "colab": {
          "base_uri": "https://localhost:8080/",
          "height": 71
        },
        "outputId": "dbc76ffa-7969-405b-986b-5340a6ab8f76"
      },
      "source": [
        "## Funcion que hemos realizado para calcular el tiempo de ejecución de una funcion.\n",
        "from functools import wraps\n",
        "from time import time\n",
        "\n",
        "def timing(f):\n",
        "    @wraps(f)\n",
        "    def wrap(*args, **kw):\n",
        "        ts = time()\n",
        "        result = f(*args, **kw)\n",
        "        te = time()\n",
        "        print(te-ts)\n",
        "        return result\n",
        "    return wrap\n",
        "\n",
        "## algoritmo de fuerza bruta\n",
        "## hemos utilizado itertools para generar todas las permutaciones posibles\n",
        "from itertools import permutations\n",
        "\n",
        "@timing\n",
        "def eval_fb(resultado):\n",
        "    nums = [str(x) for x in range(1,10)]\n",
        "    ops = [\"+\",\"-\",\"/\",\"*\"]\n",
        "    numeros_permutados = list(permutations(nums,5))\n",
        "    ops_permutadas = list(permutations(ops,4))\n",
        "    resultados = []\n",
        "    for lista_num in numeros_permutados:\n",
        "        for lista_ops in ops_permutadas:\n",
        "            cad = \"{}{}{}{}{}{}{}{}{}\".format(lista_num[0],lista_ops[0],lista_num[1],lista_ops[1],lista_num[2],\n",
        "                                                 lista_ops[2],lista_num[3],lista_ops[3],lista_num[4])\n",
        "            if eval(cad) == resultado:\n",
        "                resultados.append(cad)\n",
        "    return resultados\n",
        "\n",
        "print(eval_fb(77))"
      ],
      "execution_count": 1,
      "outputs": [
        {
          "output_type": "stream",
          "text": [
            "2.717813730239868\n",
            "['7/1-2+8*9', '7/1-2+9*8', '7/1+8*9-2', '7/1+9*8-2', '7-2/1+8*9', '7-2/1+9*8', '7-2+8/1*9', '7-2+8*9/1', '7-2+9/1*8', '7-2+9*8/1', '7-4/2+8*9', '7-4/2+9*8', '7-6/3+8*9', '7-6/3+9*8', '7+8/1*9-2', '7+8*9/1-2', '7+8*9-2/1', '7+8*9-4/2', '7+8*9-6/3', '7+9/1*8-2', '7+9*8/1-2', '7+9*8-2/1', '7+9*8-4/2', '7+9*8-6/3', '8/1*9-2+7', '8/1*9+7-2', '8*9/1-2+7', '8*9/1+7-2', '8*9-2/1+7', '8*9-2+7/1', '8*9-4/2+7', '8*9-6/3+7', '8*9+7/1-2', '8*9+7-2/1', '8*9+7-4/2', '8*9+7-6/3', '9/1*8-2+7', '9/1*8+7-2', '9*8/1-2+7', '9*8/1+7-2', '9*8-2/1+7', '9*8-2+7/1', '9*8-4/2+7', '9*8-6/3+7', '9*8+7/1-2', '9*8+7-2/1', '9*8+7-4/2', '9*8+7-6/3']\n"
          ],
          "name": "stdout"
        }
      ]
    },
    {
      "cell_type": "markdown",
      "metadata": {
        "id": "tgrnsC2nkFa8",
        "colab_type": "text"
      },
      "source": [
        "Calcula la complejidad del algoritmo por fuerza bruta"
      ]
    },
    {
      "cell_type": "markdown",
      "metadata": {
        "id": "9eUd3xwckP68",
        "colab_type": "text"
      },
      "source": [
        "Respuesta"
      ]
    },
    {
      "cell_type": "markdown",
      "metadata": {
        "id": "rvZWwL-ckRST",
        "colab_type": "text"
      },
      "source": [
        "La complejidad del algoritmo por fuerza bruta ha sido el equivalente a **O(n^2)**, ya que hemos tenido que iterar ambas listas de manera concatenada."
      ]
    },
    {
      "cell_type": "markdown",
      "metadata": {
        "id": "txbrmLmskReM",
        "colab_type": "text"
      },
      "source": [
        "(*)Diseña un algoritmo que mejore la complejidad del algortimo por fuerza bruta. Argumenta porque crees que mejora el algoritmo por fuerza bruta"
      ]
    },
    {
      "cell_type": "markdown",
      "metadata": {
        "id": "hLrVwt5QkZPD",
        "colab_type": "text"
      },
      "source": [
        "Respuesta"
      ]
    },
    {
      "cell_type": "markdown",
      "metadata": {
        "id": "3tBk7O-UUc04",
        "colab_type": "text"
      },
      "source": [
        "El algoritmo tiene un tiempo de ejecución similar al algoritmo de fuerza \n",
        "bruta. por lo tanto, en mi opinion no hay una mejora significativa."
      ]
    },
    {
      "cell_type": "code",
      "metadata": {
        "id": "m1eyM21Vkabg",
        "colab_type": "code",
        "colab": {
          "base_uri": "https://localhost:8080/",
          "height": 71
        },
        "outputId": "8b7e1af0-af4a-48b7-9a42-9968ba8db259"
      },
      "source": [
        "## prueba DYV\n",
        "from itertools import permutations\n",
        "\n",
        "nums = [str(x) for x in range(1,10)]\n",
        "ops = [\"+\",\"-\", \"*\", \"/\"]\n",
        "lista_nums_permutados = list(permutations(nums,5))\n",
        "lista_ops_permutados = list(permutations(ops,4))\n",
        "\n",
        "\n",
        "def dyv(lista_nums, lista_ops, solucion):\n",
        "    if len(lista_nums) <= 1:\n",
        "        soluciones = []\n",
        "        for ops in lista_ops:\n",
        "            cad = \"{}{}{}{}{}{}{}{}{}\".format(lista_nums[0][0], ops[0], lista_nums[0][1], ops[1],lista_nums[0][2], ops[2],\n",
        "                                             lista_nums[0][3], ops[3], lista_nums[0][4])\n",
        "            if eval(cad) == solucion:\n",
        "                soluciones.append(cad)\n",
        "        return soluciones\n",
        "            \n",
        "    else:\n",
        "        lista_izq = lista_nums[:round(len(lista_nums)/2)]\n",
        "        lista_der = lista_nums[round(len(lista_nums)/2):]\n",
        "        resultado_izq = dyv(lista_izq, lista_ops, solucion)\n",
        "        resultado_der = dyv(lista_der, lista_ops, solucion)\n",
        "        return resultado_izq+resultado_der\n",
        "        \n",
        "        \n",
        "@timing\n",
        "def call_dyv(lista_nums, lista_ops, solucion):\n",
        "    return dyv(lista_nums, lista_ops, solucion)\n",
        "\n",
        "print(call_dyv(lista_nums_permutados, lista_ops_permutados, 77))"
      ],
      "execution_count": 2,
      "outputs": [
        {
          "output_type": "stream",
          "text": [
            "2.9010744094848633\n",
            "['7/1-2+8*9', '7/1-2+9*8', '7/1+8*9-2', '7/1+9*8-2', '7-2/1+8*9', '7-2/1+9*8', '7-2+8/1*9', '7-2+8*9/1', '7-2+9/1*8', '7-2+9*8/1', '7-4/2+8*9', '7-4/2+9*8', '7-6/3+8*9', '7-6/3+9*8', '7+8/1*9-2', '7+8*9/1-2', '7+8*9-2/1', '7+8*9-4/2', '7+8*9-6/3', '7+9/1*8-2', '7+9*8/1-2', '7+9*8-2/1', '7+9*8-4/2', '7+9*8-6/3', '8/1*9-2+7', '8/1*9+7-2', '8*9/1-2+7', '8*9/1+7-2', '8*9-2/1+7', '8*9-2+7/1', '8*9-4/2+7', '8*9-6/3+7', '8*9+7/1-2', '8*9+7-2/1', '8*9+7-4/2', '8*9+7-6/3', '9/1*8-2+7', '9/1*8+7-2', '9*8/1-2+7', '9*8/1+7-2', '9*8-2/1+7', '9*8-2+7/1', '9*8-4/2+7', '9*8-6/3+7', '9*8+7/1-2', '9*8+7-2/1', '9*8+7-4/2', '9*8+7-6/3']\n"
          ],
          "name": "stdout"
        }
      ]
    },
    {
      "cell_type": "markdown",
      "metadata": {
        "id": "eGDB4K6uk1iN",
        "colab_type": "text"
      },
      "source": [
        "(*)Calcula la complejidad del algoritmo "
      ]
    },
    {
      "cell_type": "markdown",
      "metadata": {
        "id": "NhpTh_BPk1ms",
        "colab_type": "text"
      },
      "source": [
        "Respuesta"
      ]
    },
    {
      "cell_type": "markdown",
      "metadata": {
        "id": "nREzhkStlCq8",
        "colab_type": "text"
      },
      "source": [
        "Al cambiarle el diseño por uno como es **divide y venceras**, la complejidad se ha visto reducida a O(n log n) por lo tanto cuanto mayor sea el numero de combinaciones que propongamos, este sera más eficiente que el de fuerza bruta."
      ]
    },
    {
      "cell_type": "markdown",
      "metadata": {
        "id": "3M6QjTsSkmYe",
        "colab_type": "text"
      },
      "source": [
        "Según el problema (y tenga sentido), diseña un juego de datos de entrada aleatorios"
      ]
    },
    {
      "cell_type": "markdown",
      "metadata": {
        "id": "Jc3_OlyNkvjZ",
        "colab_type": "text"
      },
      "source": [
        "Respuesta"
      ]
    },
    {
      "cell_type": "markdown",
      "metadata": {
        "id": "sJ-N2etjkyWc",
        "colab_type": "text"
      },
      "source": [
        "El conjunto de datos que podemos generar, son todos los numeros comprendidos entre el minimo y el maximo que hemos definido al principio de la practica (-69 a 77) "
      ]
    },
    {
      "cell_type": "markdown",
      "metadata": {
        "id": "zy5ZROmjlGo1",
        "colab_type": "text"
      },
      "source": [
        "Aplica el algoritmo al juego de datos generado"
      ]
    },
    {
      "cell_type": "markdown",
      "metadata": {
        "id": "_Cmj-PVylMsa",
        "colab_type": "text"
      },
      "source": [
        "Respuesta"
      ]
    },
    {
      "cell_type": "code",
      "metadata": {
        "id": "Jkx8GeiYlUz1",
        "colab_type": "code",
        "colab": {
          "base_uri": "https://localhost:8080/",
          "height": 1000
        },
        "outputId": "f4f19564-d2ae-4c85-91b7-d186695f85f2"
      },
      "source": [
        "# con esto comprobamos que todos los valores eentre -69 (el minimo) y 77 (el maximo) se pueden conseguir\n",
        "for x in range(-70, 79):\n",
        "    print(\"Para el valor {}, se han encontrado {} soluciones\".format(x, len(eval_fb(x))))"
      ],
      "execution_count": 4,
      "outputs": [
        {
          "output_type": "stream",
          "text": [
            "2.7701053619384766\n",
            "Para el valor -70, se han encontrado 0 soluciones\n",
            "2.711203098297119\n",
            "Para el valor -69, se han encontrado 16 soluciones\n",
            "2.7757842540740967\n",
            "Para el valor -68, se han encontrado 16 soluciones\n",
            "2.802344560623169\n",
            "Para el valor -67, se han encontrado 40 soluciones\n",
            "2.673316478729248\n",
            "Para el valor -66, se han encontrado 48 soluciones\n",
            "2.685680627822876\n",
            "Para el valor -65, se han encontrado 88 soluciones\n",
            "2.8270747661590576\n",
            "Para el valor -64, se han encontrado 80 soluciones\n",
            "2.6802616119384766\n",
            "Para el valor -63, se han encontrado 112 soluciones\n",
            "2.596261739730835\n",
            "Para el valor -62, se han encontrado 72 soluciones\n",
            "2.7477610111236572\n",
            "Para el valor -61, se han encontrado 64 soluciones\n",
            "2.6987996101379395\n",
            "Para el valor -60, se han encontrado 56 soluciones\n",
            "2.6804046630859375\n",
            "Para el valor -59, se han encontrado 56 soluciones\n",
            "2.636571168899536\n",
            "Para el valor -58, se han encontrado 56 soluciones\n",
            "2.7463650703430176\n",
            "Para el valor -57, se han encontrado 48 soluciones\n",
            "2.6202616691589355\n",
            "Para el valor -56, se han encontrado 104 soluciones\n",
            "2.6175789833068848\n",
            "Para el valor -55, se han encontrado 96 soluciones\n",
            "2.602353572845459\n",
            "Para el valor -54, se han encontrado 72 soluciones\n",
            "2.760866165161133\n",
            "Para el valor -53, se han encontrado 104 soluciones\n",
            "2.753523588180542\n",
            "Para el valor -52, se han encontrado 96 soluciones\n",
            "2.7776191234588623\n",
            "Para el valor -51, se han encontrado 96 soluciones\n",
            "2.8836371898651123\n",
            "Para el valor -50, se han encontrado 88 soluciones\n",
            "2.730623960494995\n",
            "Para el valor -49, se han encontrado 184 soluciones\n",
            "2.715590476989746\n",
            "Para el valor -48, se han encontrado 120 soluciones\n",
            "2.7357985973358154\n",
            "Para el valor -47, se han encontrado 160 soluciones\n",
            "2.6805994510650635\n",
            "Para el valor -46, se han encontrado 72 soluciones\n",
            "2.737321615219116\n",
            "Para el valor -45, se han encontrado 176 soluciones\n",
            "2.729518413543701\n",
            "Para el valor -44, se han encontrado 120 soluciones\n",
            "2.6439764499664307\n",
            "Para el valor -43, se han encontrado 152 soluciones\n",
            "2.6878669261932373\n",
            "Para el valor -42, se han encontrado 152 soluciones\n",
            "2.684854745864868\n",
            "Para el valor -41, se han encontrado 168 soluciones\n",
            "2.670621871948242\n",
            "Para el valor -40, se han encontrado 96 soluciones\n",
            "2.7064545154571533\n",
            "Para el valor -39, se han encontrado 168 soluciones\n",
            "2.6521353721618652\n",
            "Para el valor -38, se han encontrado 104 soluciones\n",
            "2.7205333709716797\n",
            "Para el valor -37, se han encontrado 208 soluciones\n",
            "2.624255418777466\n",
            "Para el valor -36, se han encontrado 208 soluciones\n",
            "2.754087209701538\n",
            "Para el valor -35, se han encontrado 304 soluciones\n",
            "2.6502554416656494\n",
            "Para el valor -34, se han encontrado 208 soluciones\n",
            "2.705988645553589\n",
            "Para el valor -33, se han encontrado 128 soluciones\n",
            "2.6771862506866455\n",
            "Para el valor -32, se han encontrado 200 soluciones\n",
            "2.8044657707214355\n",
            "Para el valor -31, se han encontrado 296 soluciones\n",
            "2.754282236099243\n",
            "Para el valor -30, se han encontrado 264 soluciones\n",
            "2.724160671234131\n",
            "Para el valor -29, se han encontrado 288 soluciones\n",
            "2.857877254486084\n",
            "Para el valor -28, se han encontrado 256 soluciones\n",
            "2.7362136840820312\n",
            "Para el valor -27, se han encontrado 288 soluciones\n",
            "2.6689388751983643\n",
            "Para el valor -26, se han encontrado 184 soluciones\n",
            "2.785104751586914\n",
            "Para el valor -25, se han encontrado 376 soluciones\n",
            "2.6791775226593018\n",
            "Para el valor -24, se han encontrado 352 soluciones\n",
            "2.7840237617492676\n",
            "Para el valor -23, se han encontrado 376 soluciones\n",
            "2.6634724140167236\n",
            "Para el valor -22, se han encontrado 176 soluciones\n",
            "2.6787359714508057\n",
            "Para el valor -21, se han encontrado 336 soluciones\n",
            "2.68035888671875\n",
            "Para el valor -20, se han encontrado 384 soluciones\n",
            "2.9745492935180664\n",
            "Para el valor -19, se han encontrado 416 soluciones\n",
            "2.9570043087005615\n",
            "Para el valor -18, se han encontrado 440 soluciones\n",
            "3.0851707458496094\n",
            "Para el valor -17, se han encontrado 488 soluciones\n",
            "2.979886293411255\n",
            "Para el valor -16, se han encontrado 432 soluciones\n",
            "2.906174659729004\n",
            "Para el valor -15, se han encontrado 552 soluciones\n",
            "3.0623910427093506\n",
            "Para el valor -14, se han encontrado 504 soluciones\n",
            "2.9739537239074707\n",
            "Para el valor -13, se han encontrado 552 soluciones\n",
            "2.8372204303741455\n",
            "Para el valor -12, se han encontrado 512 soluciones\n",
            "2.7675070762634277\n",
            "Para el valor -11, se han encontrado 648 soluciones\n",
            "3.088608980178833\n",
            "Para el valor -10, se han encontrado 624 soluciones\n",
            "2.991867780685425\n",
            "Para el valor -9, se han encontrado 768 soluciones\n",
            "3.1583070755004883\n",
            "Para el valor -8, se han encontrado 680 soluciones\n",
            "3.072831869125366\n",
            "Para el valor -7, se han encontrado 960 soluciones\n",
            "2.8419229984283447\n",
            "Para el valor -6, se han encontrado 736 soluciones\n",
            "2.8100008964538574\n",
            "Para el valor -5, se han encontrado 1136 soluciones\n",
            "2.840528726577759\n",
            "Para el valor -4, se han encontrado 1096 soluciones\n",
            "2.9304444789886475\n",
            "Para el valor -3, se han encontrado 1232 soluciones\n",
            "2.9666624069213867\n",
            "Para el valor -2, se han encontrado 1272 soluciones\n",
            "2.78691029548645\n",
            "Para el valor -1, se han encontrado 1688 soluciones\n",
            "2.7189507484436035\n",
            "Para el valor 0, se han encontrado 1888 soluciones\n",
            "2.9170007705688477\n",
            "Para el valor 1, se han encontrado 2008 soluciones\n",
            "2.7491209506988525\n",
            "Para el valor 2, se han encontrado 1688 soluciones\n",
            "2.751758098602295\n",
            "Para el valor 3, se han encontrado 1952 soluciones\n",
            "2.9030978679656982\n",
            "Para el valor 4, se han encontrado 2112 soluciones\n",
            "2.8099987506866455\n",
            "Para el valor 5, se han encontrado 2880 soluciones\n",
            "2.7750790119171143\n",
            "Para el valor 6, se han encontrado 2200 soluciones\n",
            "2.8136911392211914\n",
            "Para el valor 7, se han encontrado 2824 soluciones\n",
            "2.7000057697296143\n",
            "Para el valor 8, se han encontrado 2376 soluciones\n",
            "2.7457916736602783\n",
            "Para el valor 9, se han encontrado 2584 soluciones\n",
            "2.74658203125\n",
            "Para el valor 10, se han encontrado 2120 soluciones\n",
            "2.8370633125305176\n",
            "Para el valor 11, se han encontrado 2256 soluciones\n",
            "2.7751007080078125\n",
            "Para el valor 12, se han encontrado 1512 soluciones\n",
            "2.7283706665039062\n",
            "Para el valor 13, se han encontrado 2160 soluciones\n",
            "3.103452205657959\n",
            "Para el valor 14, se han encontrado 1880 soluciones\n",
            "2.8404581546783447\n",
            "Para el valor 15, se han encontrado 1800 soluciones\n",
            "2.7439284324645996\n",
            "Para el valor 16, se han encontrado 1568 soluciones\n",
            "2.8219876289367676\n",
            "Para el valor 17, se han encontrado 1928 soluciones\n",
            "2.860279083251953\n",
            "Para el valor 18, se han encontrado 1344 soluciones\n",
            "2.871868133544922\n",
            "Para el valor 19, se han encontrado 1616 soluciones\n",
            "2.8301949501037598\n",
            "Para el valor 20, se han encontrado 1344 soluciones\n",
            "2.783855438232422\n",
            "Para el valor 21, se han encontrado 1224 soluciones\n",
            "2.8674492835998535\n",
            "Para el valor 22, se han encontrado 1352 soluciones\n",
            "3.1712098121643066\n",
            "Para el valor 23, se han encontrado 1208 soluciones\n",
            "2.87612247467041\n",
            "Para el valor 24, se han encontrado 784 soluciones\n",
            "2.786810874938965\n",
            "Para el valor 25, se han encontrado 1312 soluciones\n",
            "2.841036796569824\n",
            "Para el valor 26, se han encontrado 1048 soluciones\n",
            "2.7369484901428223\n",
            "Para el valor 27, se han encontrado 680 soluciones\n",
            "2.8472557067871094\n",
            "Para el valor 28, se han encontrado 808 soluciones\n",
            "2.849968910217285\n",
            "Para el valor 29, se han encontrado 976 soluciones\n",
            "2.8865127563476562\n",
            "Para el valor 30, se han encontrado 752 soluciones\n",
            "2.7708325386047363\n",
            "Para el valor 31, se han encontrado 880 soluciones\n",
            "2.9100847244262695\n",
            "Para el valor 32, se han encontrado 472 soluciones\n",
            "2.8478317260742188\n",
            "Para el valor 33, se han encontrado 648 soluciones\n",
            "2.7035253047943115\n",
            "Para el valor 34, se han encontrado 704 soluciones\n",
            "3.2223129272460938\n",
            "Para el valor 35, se han encontrado 688 soluciones\n",
            "2.868959426879883\n",
            "Para el valor 36, se han encontrado 560 soluciones\n",
            "2.804441213607788\n",
            "Para el valor 37, se han encontrado 616 soluciones\n",
            "2.868873119354248\n",
            "Para el valor 38, se han encontrado 488 soluciones\n",
            "2.8493614196777344\n",
            "Para el valor 39, se han encontrado 568 soluciones\n",
            "2.7877399921417236\n",
            "Para el valor 40, se han encontrado 400 soluciones\n",
            "2.7440130710601807\n",
            "Para el valor 41, se han encontrado 680 soluciones\n",
            "2.6821234226226807\n",
            "Para el valor 42, se han encontrado 376 soluciones\n",
            "2.9356491565704346\n",
            "Para el valor 43, se han encontrado 488 soluciones\n",
            "2.7468786239624023\n",
            "Para el valor 44, se han encontrado 424 soluciones\n",
            "2.6492536067962646\n",
            "Para el valor 45, se han encontrado 304 soluciones\n",
            "2.808224678039551\n",
            "Para el valor 46, se han encontrado 432 soluciones\n",
            "2.636152982711792\n",
            "Para el valor 47, se han encontrado 376 soluciones\n",
            "2.6401114463806152\n",
            "Para el valor 48, se han encontrado 192 soluciones\n",
            "2.6719534397125244\n",
            "Para el valor 49, se han encontrado 424 soluciones\n",
            "2.680628776550293\n",
            "Para el valor 50, se han encontrado 344 soluciones\n",
            "2.5805435180664062\n",
            "Para el valor 51, se han encontrado 280 soluciones\n",
            "2.6426315307617188\n",
            "Para el valor 52, se han encontrado 240 soluciones\n",
            "2.5949199199676514\n",
            "Para el valor 53, se han encontrado 368 soluciones\n",
            "2.716723680496216\n",
            "Para el valor 54, se han encontrado 200 soluciones\n",
            "2.6247129440307617\n",
            "Para el valor 55, se han encontrado 392 soluciones\n",
            "2.674374580383301\n",
            "Para el valor 56, se han encontrado 128 soluciones\n",
            "2.8171513080596924\n",
            "Para el valor 57, se han encontrado 352 soluciones\n",
            "2.72659969329834\n",
            "Para el valor 58, se han encontrado 240 soluciones\n",
            "2.7226123809814453\n",
            "Para el valor 59, se han encontrado 280 soluciones\n",
            "2.740985631942749\n",
            "Para el valor 60, se han encontrado 240 soluciones\n",
            "2.7358765602111816\n",
            "Para el valor 61, se han encontrado 192 soluciones\n",
            "2.701902151107788\n",
            "Para el valor 62, se han encontrado 232 soluciones\n",
            "2.630039691925049\n",
            "Para el valor 63, se han encontrado 112 soluciones\n",
            "2.613976001739502\n",
            "Para el valor 64, se han encontrado 192 soluciones\n",
            "2.6174728870391846\n",
            "Para el valor 65, se han encontrado 160 soluciones\n",
            "2.690812349319458\n",
            "Para el valor 66, se han encontrado 128 soluciones\n",
            "2.6169211864471436\n",
            "Para el valor 67, se han encontrado 128 soluciones\n",
            "2.671635866165161\n",
            "Para el valor 68, se han encontrado 120 soluciones\n",
            "2.7171339988708496\n",
            "Para el valor 69, se han encontrado 160 soluciones\n",
            "2.698486328125\n",
            "Para el valor 70, se han encontrado 152 soluciones\n",
            "2.671856641769409\n",
            "Para el valor 71, se han encontrado 192 soluciones\n",
            "2.7123119831085205\n",
            "Para el valor 72, se han encontrado 32 soluciones\n",
            "2.6563472747802734\n",
            "Para el valor 73, se han encontrado 192 soluciones\n",
            "2.6922881603240967\n",
            "Para el valor 74, se han encontrado 152 soluciones\n",
            "2.696253776550293\n",
            "Para el valor 75, se han encontrado 112 soluciones\n",
            "2.753455638885498\n",
            "Para el valor 76, se han encontrado 80 soluciones\n",
            "2.812382698059082\n",
            "Para el valor 77, se han encontrado 48 soluciones\n",
            "2.612751007080078\n",
            "Para el valor 78, se han encontrado 0 soluciones\n"
          ],
          "name": "stdout"
        }
      ]
    },
    {
      "cell_type": "markdown",
      "metadata": {
        "colab_type": "text",
        "id": "eTFWUJQrtGcv"
      },
      "source": [
        "Enumera las referencias que has utilizado(si ha sido necesario) para llevar a cabo el trabajo"
      ]
    },
    {
      "cell_type": "markdown",
      "metadata": {
        "id": "YKQ_mRBttWsP",
        "colab_type": "text"
      },
      "source": [
        "Respuesta"
      ]
    },
    {
      "cell_type": "markdown",
      "metadata": {
        "id": "zp4QV1YZUygC",
        "colab_type": "text"
      },
      "source": [
        "1. Apuntes codigos de ejemplo de la asignatura de Optimización de Algoritmos\n",
        "2. Apuntes de la asignatura de Introducción a Python\n",
        "3. La documentación de la libreria Itertools, para generar listas."
      ]
    },
    {
      "cell_type": "markdown",
      "metadata": {
        "id": "kAkDPUyRtYyH",
        "colab_type": "text"
      },
      "source": [
        "Describe brevemente las lineas de como crees que es posible avanzar en el estudio del problema. Ten en cuenta incluso posibles variaciones del problema y/o variaciones al alza del tamaño"
      ]
    },
    {
      "cell_type": "markdown",
      "metadata": {
        "id": "IE0uZmo-tZu-",
        "colab_type": "text"
      },
      "source": [
        "Respuesta"
      ]
    },
    {
      "cell_type": "markdown",
      "metadata": {
        "id": "_PihUli1U5lb",
        "colab_type": "text"
      },
      "source": [
        "- Creo que es un problema tipo, que podria evolucionar en complejidad, añadiendo a la función objetivo  un numero más amplio de valores, operadores, quitando la restricción de repeticiones...\n",
        "- Esto implicaría, que podriamos tener más operaciones posibles  y por lo tanto nuestras soluciones propuestas podrian ser poco eficientes.\n",
        "- Se podrian probar nuevos diseños tipo, que ya conocemos y observar como se comportan estos y que tipo de soluciones y tiempos obtenemos.\n"
      ]
    }
  ]
}