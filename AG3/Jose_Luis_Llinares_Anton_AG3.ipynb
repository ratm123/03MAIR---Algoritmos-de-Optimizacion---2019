{
  "nbformat": 4,
  "nbformat_minor": 0,
  "metadata": {
    "colab": {
      "name": "Jose Luis Llinares Anton - AG3",
      "provenance": [],
      "collapsed_sections": [],
      "authorship_tag": "ABX9TyMUCbb7lZTzA5h4YS0g+lJ5",
      "include_colab_link": true
    },
    "kernelspec": {
      "name": "python3",
      "display_name": "Python 3"
    }
  },
  "cells": [
    {
      "cell_type": "markdown",
      "metadata": {
        "id": "view-in-github",
        "colab_type": "text"
      },
      "source": [
        "<a href=\"https://colab.research.google.com/github/ratm123/03MAIR---Algoritmos-de-Optimizacion---2019/blob/master/AG3/Jose_Luis_Llinares_Anton_AG3.ipynb\" target=\"_parent\"><img src=\"https://colab.research.google.com/assets/colab-badge.svg\" alt=\"Open In Colab\"/></a>"
      ]
    },
    {
      "cell_type": "markdown",
      "metadata": {
        "id": "wvkxoIItpXkr",
        "colab_type": "text"
      },
      "source": [
        "\n",
        "AG3 - Actividad guiada 3\n",
        "\n",
        "Jose Luis Llinares Anton\n",
        "\n",
        "https://github.com/ratm123/03MAIR---Algoritmos-de-Optimizacion---2019\n",
        "\n",
        "\n",
        "https://colab.research.google.com/drive/14JX5VTDhl295aYHsaifsCkqgMW6VfSLc"
      ]
    },
    {
      "cell_type": "code",
      "metadata": {
        "id": "qBSvkByHpVqy",
        "colab_type": "code",
        "outputId": "fe3a2b58-024a-4e20-cf83-dda4404dd4c3",
        "colab": {
          "base_uri": "https://localhost:8080/",
          "height": 102
        }
      },
      "source": [
        "!pip install requests\n"
      ],
      "execution_count": 0,
      "outputs": [
        {
          "output_type": "stream",
          "text": [
            "Requirement already satisfied: requests in /usr/local/lib/python3.6/dist-packages (2.21.0)\n",
            "Requirement already satisfied: certifi>=2017.4.17 in /usr/local/lib/python3.6/dist-packages (from requests) (2019.11.28)\n",
            "Requirement already satisfied: urllib3<1.25,>=1.21.1 in /usr/local/lib/python3.6/dist-packages (from requests) (1.24.3)\n",
            "Requirement already satisfied: idna<2.9,>=2.5 in /usr/local/lib/python3.6/dist-packages (from requests) (2.8)\n",
            "Requirement already satisfied: chardet<3.1.0,>=3.0.2 in /usr/local/lib/python3.6/dist-packages (from requests) (3.0.4)\n"
          ],
          "name": "stdout"
        }
      ]
    },
    {
      "cell_type": "code",
      "metadata": {
        "id": "rAH9Y9QCrGNo",
        "colab_type": "code",
        "outputId": "9e1dfc23-dce9-4e8f-8636-d8b6e1f9005f",
        "colab": {
          "base_uri": "https://localhost:8080/",
          "height": 34
        }
      },
      "source": [
        "import urllib.request\n",
        "\n",
        "\n",
        "file = \"swiss42.tsp\"\n",
        "\n",
        "urllib.request.urlretrieve(\"http://elib.zib.de/pub/mp-testdata/tsp/tsplib/tsp/swiss42.tsp\", file)"
      ],
      "execution_count": 0,
      "outputs": [
        {
          "output_type": "execute_result",
          "data": {
            "text/plain": [
              "('swiss42.tsp', <http.client.HTTPMessage at 0x7f69ab7680f0>)"
            ]
          },
          "metadata": {
            "tags": []
          },
          "execution_count": 2
        }
      ]
    },
    {
      "cell_type": "code",
      "metadata": {
        "id": "oGEGZRjlrU2w",
        "colab_type": "code",
        "outputId": "dd847c13-744c-421a-8b76-bda167da352c",
        "colab": {
          "base_uri": "https://localhost:8080/",
          "height": 156
        }
      },
      "source": [
        "!pip install tsplib95"
      ],
      "execution_count": 0,
      "outputs": [
        {
          "output_type": "stream",
          "text": [
            "Collecting tsplib95\n",
            "  Downloading https://files.pythonhosted.org/packages/dc/43/039c0621085202f19d6c12b06330bf109743083ce4024137b4713da9c40b/tsplib95-0.6.1-py2.py3-none-any.whl\n",
            "Requirement already satisfied: Click>=6.0 in /usr/local/lib/python3.6/dist-packages (from tsplib95) (7.0)\n",
            "Requirement already satisfied: networkx~=2.1 in /usr/local/lib/python3.6/dist-packages (from tsplib95) (2.4)\n",
            "Requirement already satisfied: decorator>=4.3.0 in /usr/local/lib/python3.6/dist-packages (from networkx~=2.1->tsplib95) (4.4.1)\n",
            "Installing collected packages: tsplib95\n",
            "Successfully installed tsplib95-0.6.1\n"
          ],
          "name": "stdout"
        }
      ]
    },
    {
      "cell_type": "code",
      "metadata": {
        "id": "Jve9pnOkriL0",
        "colab_type": "code",
        "colab": {}
      },
      "source": [
        "import tsplib95\n",
        "import random\n",
        "import math\n"
      ],
      "execution_count": 0,
      "outputs": []
    },
    {
      "cell_type": "code",
      "metadata": {
        "id": "76NvIVZFrmjo",
        "colab_type": "code",
        "colab": {}
      },
      "source": [
        "problem = tsplib95.load_problem(file)\n",
        "\n",
        "nodos = list(problem.get_nodes())\n",
        "aristas = list(problem.get_edges())"
      ],
      "execution_count": 0,
      "outputs": []
    },
    {
      "cell_type": "markdown",
      "metadata": {
        "id": "mqbrSMZmtbai",
        "colab_type": "text"
      },
      "source": [
        "## Funciones generales"
      ]
    },
    {
      "cell_type": "code",
      "metadata": {
        "id": "cpNAUUW5sj7_",
        "colab_type": "code",
        "outputId": "013d0c84-bbd0-4648-d33c-e68f4428af5d",
        "colab": {
          "base_uri": "https://localhost:8080/",
          "height": 34
        }
      },
      "source": [
        "#Se genera una solucion aleatoria con comienzo en en el nodo 0\n",
        "def crear_solucion(Nodos): \n",
        "  solucion = [0]\n",
        "  for i in range(len(Nodos)-1):\n",
        "    solucion = solucion + [random.choice(list(set(Nodos) - set(solucion)))]\n",
        "  return solucion\n",
        "\n",
        "#Devuelve la distancia entre dos nodos\n",
        "def distancia(a,b, problem):\n",
        "  return problem.wfunc(a,b)\n",
        "\n",
        "#Devuelve la distancia total de una trayectoria\n",
        "def distancia_total(solucion, problem):\n",
        "  distancia_total = 0\n",
        "  for i in range(len(solucion)-1):\n",
        "    distancia_total += distancia(solucion[i] ,solucion[i+1] ,  problem)\n",
        "  return distancia_total + distancia(solucion[len(solucion)-1] ,solucion[0], problem)\n",
        "\n",
        "\n",
        "solucion = crear_solucion(nodos)\n",
        "distancia_total(solucion, problem)"
      ],
      "execution_count": 0,
      "outputs": [
        {
          "output_type": "execute_result",
          "data": {
            "text/plain": [
              "5093"
            ]
          },
          "metadata": {
            "tags": []
          },
          "execution_count": 19
        }
      ]
    },
    {
      "cell_type": "markdown",
      "metadata": {
        "id": "__MkR8B3v0x4",
        "colab_type": "text"
      },
      "source": [
        "## Busqueda aleatoria"
      ]
    },
    {
      "cell_type": "code",
      "metadata": {
        "id": "rFScO1eQtxEh",
        "colab_type": "code",
        "outputId": "e49e3047-a2e6-409d-88fd-39ddf1302a54",
        "colab": {
          "base_uri": "https://localhost:8080/",
          "height": 54
        }
      },
      "source": [
        "def busqueda_aleatoria(problem, N):\n",
        "  mejor_solucion = crear_solucion(nodos)\n",
        "  mejor_valor = distancia_total(mejor_solucion, problem)\n",
        "  for i in range(N):\n",
        "    solucion = crear_solucion(nodos)\n",
        "    valor = distancia_total(solucion, problem)\n",
        "    if valor < mejor_valor:\n",
        "      mejor_solucion = solucion\n",
        "      mejor_valor = valor\n",
        "\n",
        "  print(\"La mejor solucion es:\",mejor_solucion, \" y  el mejor valor:\", mejor_valor)\n",
        "\n",
        "busqueda_aleatoria(problem, 1000)"
      ],
      "execution_count": 0,
      "outputs": [
        {
          "output_type": "stream",
          "text": [
            "La mejor solucion es: [0, 39, 14, 3, 6, 9, 12, 25, 11, 2, 21, 24, 40, 22, 27, 4, 7, 26, 10, 23, 5, 36, 20, 28, 29, 13, 18, 1, 33, 31, 35, 17, 16, 41, 19, 15, 37, 38, 30, 32, 8, 34]  y  el mejor valor: 3669\n"
          ],
          "name": "stdout"
        }
      ]
    },
    {
      "cell_type": "markdown",
      "metadata": {
        "id": "082ZeTR4xuQm",
        "colab_type": "text"
      },
      "source": [
        "## Busqueda local"
      ]
    },
    {
      "cell_type": "code",
      "metadata": {
        "id": "QQi5r-aGv-Gt",
        "colab_type": "code",
        "outputId": "b474e49e-9573-4cb0-ce79-cbde8512ab03",
        "colab": {
          "base_uri": "https://localhost:8080/",
          "height": 54
        }
      },
      "source": [
        "def genera_vecina(solucion):\n",
        "  #Generador de soluciones vecinas: 2-opt (intercambiar 2 nodos) Si hay N nodos se generan (N-1)x(N-2)/2 soluciones\n",
        "  #print(solucion)\n",
        "  mejor_solucion = []\n",
        "  mejor_distancia = 10e100\n",
        "  for i in range(1,len(solucion)-1):\n",
        "    for j in range(i+1, len(solucion)):\n",
        "      vecina = solucion[:i] + [solucion[j]] + solucion[i+1:j] + [solucion[i]] + solucion[j+1:] \n",
        "      distancia_vecina = distancia_total(vecina, problem)\n",
        "      if distancia_vecina <= mejor_distancia:\n",
        "        mejor_distancia = distancia_vecina\n",
        "        mejor_solucion = vecina\n",
        "  return mejor_solucion\n",
        "\n",
        "#####################################################################\n",
        "def busqueda_local(problem, N):\n",
        "  #problem = datos del problema\n",
        "  #N = numero de iteraciones\n",
        "  \n",
        "  mejor_solucion = []\n",
        "  mejor_distancia = 10e100\n",
        "  \n",
        "  solucion_referencia = crear_solucion(nodos)\n",
        "  \n",
        "  for i in range(N):\n",
        "    vecina = genera_vecina(solucion_referencia)\n",
        "    distancia_vecina = distancia_total(vecina, problem)\n",
        "    if distancia_vecina <= mejor_distancia:\n",
        "      mejor_solucion = vecina\n",
        "      mejor_distancia = distancia_vecina\n",
        "        \n",
        "    solucion_referencia = vecina\n",
        "  print(\"mejor solucion:\", mejor_distancia,  mejor_solucion)\n",
        "\n",
        "busqueda_local(problem, 100)"
      ],
      "execution_count": 0,
      "outputs": [
        {
          "output_type": "stream",
          "text": [
            "mejor solucion: 1668 [0, 1, 7, 37, 17, 31, 3, 27, 30, 38, 22, 39, 24, 40, 21, 29, 28, 2, 4, 15, 16, 14, 19, 13, 18, 10, 8, 9, 23, 41, 25, 11, 12, 26, 5, 6, 32, 34, 33, 20, 35, 36]\n"
          ],
          "name": "stdout"
        }
      ]
    },
    {
      "cell_type": "code",
      "metadata": {
        "id": "-5yjjR4vzfN1",
        "colab_type": "code",
        "outputId": "a79292bd-486c-4c7b-c7f4-990ac6a0eb0c",
        "colab": {
          "base_uri": "https://localhost:8080/",
          "height": 54
        }
      },
      "source": [
        "def genera_vecina_aleatorio(solucion):\n",
        "  #Generador de 1 solucion vecina 2-opt (intercambiar 2 nodos)\n",
        "  #Se puede mejorar haciendo que la elección no se uniforme sino entre las que estén más proximas\n",
        "  i = random.choice(range(1, len(solucion)) )\n",
        "  j = random.choice(list(set(range(1, len(solucion))) - {i}))\n",
        "  if j<i:\n",
        "    i,j=j,i\n",
        "  vecina = list(solucion[:i] + [solucion[j]] + solucion[i+1:j] + [solucion[i]] + solucion[j+1:])\n",
        "  return vecina\n",
        "\n",
        "solucion = crear_solucion(nodos)\n",
        "print(genera_vecina_aleatorio(genera_vecina_aleatorio(solucion)))"
      ],
      "execution_count": 0,
      "outputs": [
        {
          "output_type": "stream",
          "text": [
            "[0, 2, 13, 15, 23, 16, 35, 33, 17, 14, 12, 18, 30, 41, 19, 11, 32, 21, 1, 4, 25, 39, 10, 37, 36, 24, 27, 31, 29, 5, 8, 7, 38, 28, 9, 26, 3, 6, 34, 22, 20, 40]\n"
          ],
          "name": "stdout"
        }
      ]
    },
    {
      "cell_type": "markdown",
      "metadata": {
        "id": "7qg32BWl7rq7",
        "colab_type": "text"
      },
      "source": [
        "## Recocido simulado - SA"
      ]
    },
    {
      "cell_type": "code",
      "metadata": {
        "id": "xv-1m-3Q5kic",
        "colab_type": "code",
        "colab": {}
      },
      "source": [
        "#Funcion de probabilidad para determinar si se cambia \n",
        "#    a una solución peor respecto a la de referencia(exponencial)\n",
        "def probabilidad(T,d):\n",
        "  if random.random() <= math.exp(-1*d / T)   :\n",
        "    return True\n",
        "  else:\n",
        "    return False\n",
        "\n",
        "\n",
        "def bajar_temperatura(T):\n",
        "  return T*.9999"
      ],
      "execution_count": 0,
      "outputs": []
    },
    {
      "cell_type": "code",
      "metadata": {
        "id": "VeWDhej27wao",
        "colab_type": "code",
        "outputId": "3e8e4cd3-8842-4c2b-bbb9-27b6c1557fe3",
        "colab": {
          "base_uri": "https://localhost:8080/",
          "height": 1000
        }
      },
      "source": [
        "#####################################################################\n",
        "def recocido_simulado(problem, TEMPERATURA=1000):\n",
        "  #problem = datos del problema\n",
        "\n",
        "  solucion_referencia = crear_solucion(nodos)\n",
        "  distancia_referencia = distancia_total(solucion_referencia, problem)\n",
        "  \n",
        "  mejor_solucion = []\n",
        "  mejor_distancia = 10e100\n",
        "  while TEMPERATURA > 1:\n",
        "    #Genera una solución vecina(aleatoria)\n",
        "    vecina = genera_vecina_aleatorio(solucion_referencia) \n",
        "    \n",
        "    #Calcula su valor(distancia)\n",
        "    distancia_vecina = distancia_total(vecina, problem)\n",
        "    \n",
        "    #Si es la mejor solución de todas se guarda\n",
        "    if distancia_vecina < mejor_distancia:\n",
        "      mejor_solucion = vecina\n",
        "      mejor_distancia = distancia_vecina\n",
        "      print('\\t****Encontrada mejor solucion:', mejor_distancia , mejor_solucion, '\\n')\n",
        "    \n",
        "    #Si la nueva vecina es mejor se cambia y si es peor se cambia según \n",
        "    # una probabilidad dependiente de T y de |distancia_referencia - distancia_vecina|\n",
        "    p = probabilidad(TEMPERATURA, abs(distancia_referencia - distancia_vecina))\n",
        "    if distancia_vecina < distancia_referencia or p :\n",
        "      solucion_referencia = vecina\n",
        "      distancia_referencia = distancia_vecina\n",
        "    \n",
        "    TEMPERATURA = bajar_temperatura(TEMPERATURA)\n",
        "\n",
        "  print(\"La mejor solución encontrada es :\" , mejor_distancia, mejor_solucion)\n",
        "  return mejor_solucion\n",
        "\n",
        "sol = recocido_simulado(problem, TEMPERATURA=1000)\n"
      ],
      "execution_count": 0,
      "outputs": [
        {
          "output_type": "stream",
          "text": [
            "\t****Encontrada mejor solucion: 4948 [0, 17, 3, 31, 5, 25, 8, 38, 6, 26, 41, 20, 2, 10, 19, 21, 22, 23, 1, 4, 13, 9, 28, 12, 35, 34, 7, 16, 39, 11, 30, 36, 27, 15, 18, 14, 40, 37, 29, 24, 32, 33] \n",
            "\n",
            "\t****Encontrada mejor solucion: 4866 [0, 17, 3, 31, 5, 21, 8, 38, 19, 26, 23, 20, 2, 10, 1, 25, 24, 27, 6, 4, 13, 9, 40, 7, 35, 34, 22, 16, 12, 11, 30, 36, 18, 15, 41, 14, 28, 37, 29, 39, 32, 33] \n",
            "\n",
            "\t****Encontrada mejor solucion: 4699 [0, 17, 16, 31, 5, 38, 8, 21, 19, 26, 23, 20, 2, 10, 1, 25, 24, 27, 6, 4, 13, 9, 40, 7, 35, 34, 22, 3, 12, 11, 30, 36, 18, 15, 41, 14, 28, 37, 29, 39, 32, 33] \n",
            "\n",
            "\t****Encontrada mejor solucion: 4697 [0, 17, 16, 31, 5, 38, 8, 21, 19, 30, 23, 20, 2, 10, 1, 25, 24, 27, 6, 4, 13, 9, 40, 7, 35, 34, 22, 3, 12, 11, 26, 36, 18, 15, 41, 14, 28, 37, 29, 39, 32, 33] \n",
            "\n",
            "\t****Encontrada mejor solucion: 4445 [0, 17, 16, 31, 5, 38, 8, 21, 40, 30, 23, 20, 2, 10, 1, 25, 24, 27, 6, 4, 13, 9, 19, 7, 35, 34, 22, 3, 12, 11, 26, 36, 18, 15, 41, 14, 28, 37, 29, 39, 32, 33] \n",
            "\n",
            "\t****Encontrada mejor solucion: 4439 [0, 17, 16, 31, 5, 38, 8, 21, 40, 30, 23, 20, 2, 10, 1, 25, 24, 27, 6, 4, 13, 11, 19, 7, 35, 34, 22, 3, 12, 9, 26, 36, 18, 15, 41, 14, 28, 37, 29, 39, 32, 33] \n",
            "\n",
            "\t****Encontrada mejor solucion: 4431 [0, 17, 16, 31, 5, 38, 8, 21, 40, 30, 23, 20, 2, 10, 1, 25, 24, 27, 6, 4, 13, 11, 19, 7, 35, 34, 22, 3, 12, 9, 29, 36, 18, 15, 41, 14, 28, 37, 26, 39, 32, 33] \n",
            "\n",
            "\t****Encontrada mejor solucion: 4292 [0, 17, 16, 31, 5, 38, 3, 21, 40, 30, 33, 20, 2, 10, 1, 25, 24, 41, 18, 4, 13, 11, 36, 7, 23, 34, 22, 8, 32, 9, 29, 19, 37, 15, 27, 14, 28, 6, 26, 39, 12, 35] \n",
            "\n",
            "\t****Encontrada mejor solucion: 4145 [0, 17, 16, 31, 5, 21, 39, 38, 40, 28, 33, 20, 23, 10, 1, 25, 24, 41, 18, 36, 13, 11, 4, 7, 2, 34, 22, 8, 32, 6, 29, 19, 37, 15, 27, 14, 30, 9, 26, 3, 12, 35] \n",
            "\n",
            "\t****Encontrada mejor solucion: 4046 [0, 35, 20, 32, 26, 38, 22, 14, 13, 18, 19, 31, 7, 15, 4, 11, 10, 40, 12, 37, 5, 29, 28, 1, 21, 39, 17, 16, 6, 36, 8, 41, 27, 25, 24, 33, 30, 3, 2, 34, 23, 9] \n",
            "\n",
            "\t****Encontrada mejor solucion: 3934 [0, 19, 15, 6, 4, 26, 37, 14, 39, 23, 9, 11, 32, 18, 10, 29, 22, 38, 16, 7, 12, 25, 2, 36, 1, 3, 13, 5, 20, 31, 21, 24, 27, 33, 41, 40, 35, 17, 28, 30, 8, 34] \n",
            "\n",
            "\t****Encontrada mejor solucion: 3911 [0, 19, 15, 6, 4, 26, 37, 14, 39, 23, 9, 7, 32, 18, 10, 29, 22, 38, 16, 11, 12, 25, 2, 36, 1, 3, 13, 5, 20, 31, 21, 24, 27, 33, 41, 40, 35, 17, 28, 30, 8, 34] \n",
            "\n",
            "\t****Encontrada mejor solucion: 3843 [0, 31, 4, 38, 30, 36, 19, 11, 24, 28, 29, 27, 33, 6, 26, 2, 32, 22, 18, 12, 41, 40, 10, 23, 7, 35, 1, 25, 9, 8, 14, 37, 17, 20, 34, 21, 39, 16, 5, 3, 15, 13] \n",
            "\n",
            "\t****Encontrada mejor solucion: 3774 [0, 1, 6, 40, 13, 16, 3, 30, 34, 15, 12, 32, 29, 28, 39, 25, 11, 17, 37, 36, 14, 4, 26, 8, 24, 18, 35, 27, 23, 9, 41, 21, 38, 20, 33, 22, 2, 10, 19, 5, 7, 31] \n",
            "\n",
            "\t****Encontrada mejor solucion: 3735 [0, 1, 6, 40, 13, 16, 3, 30, 34, 15, 12, 32, 29, 28, 39, 25, 11, 17, 37, 36, 14, 4, 26, 8, 23, 18, 35, 27, 24, 9, 41, 21, 38, 20, 33, 22, 2, 10, 19, 5, 7, 31] \n",
            "\n",
            "\t****Encontrada mejor solucion: 3734 [0, 3, 16, 5, 11, 39, 22, 15, 7, 17, 37, 1, 41, 25, 12, 24, 21, 9, 10, 20, 34, 18, 32, 27, 6, 30, 28, 23, 33, 40, 35, 31, 4, 2, 26, 13, 36, 14, 19, 8, 38, 29] \n",
            "\n",
            "\t****Encontrada mejor solucion: 3727 [0, 35, 31, 15, 18, 38, 39, 2, 3, 28, 8, 14, 36, 16, 17, 40, 9, 1, 37, 4, 13, 26, 29, 19, 5, 33, 20, 32, 6, 7, 27, 21, 30, 22, 34, 23, 24, 11, 25, 41, 12, 10] \n",
            "\n",
            "\t****Encontrada mejor solucion: 3661 [0, 16, 14, 20, 35, 7, 19, 31, 18, 24, 22, 41, 8, 21, 30, 6, 15, 17, 36, 33, 27, 3, 11, 5, 28, 40, 23, 38, 32, 12, 37, 26, 10, 13, 25, 4, 1, 34, 29, 39, 9, 2] \n",
            "\n",
            "\t****Encontrada mejor solucion: 3658 [0, 16, 27, 20, 35, 7, 19, 31, 8, 24, 22, 41, 18, 21, 30, 6, 15, 17, 36, 33, 26, 3, 11, 5, 9, 40, 23, 38, 32, 13, 37, 14, 10, 12, 25, 4, 1, 34, 29, 39, 28, 2] \n",
            "\n",
            "\t****Encontrada mejor solucion: 3591 [0, 16, 27, 20, 35, 7, 19, 31, 8, 18, 22, 41, 24, 21, 30, 6, 15, 17, 36, 33, 26, 3, 11, 5, 9, 40, 23, 38, 32, 13, 37, 14, 10, 12, 25, 4, 1, 34, 29, 39, 28, 2] \n",
            "\n",
            "\t****Encontrada mejor solucion: 3527 [0, 16, 27, 36, 35, 7, 19, 31, 8, 18, 22, 41, 24, 21, 30, 6, 15, 17, 20, 33, 26, 3, 11, 5, 9, 40, 23, 38, 32, 13, 37, 14, 10, 12, 25, 4, 1, 34, 29, 39, 28, 2] \n",
            "\n",
            "\t****Encontrada mejor solucion: 3426 [0, 32, 35, 4, 20, 34, 2, 8, 23, 6, 18, 33, 21, 24, 30, 25, 3, 1, 7, 14, 19, 13, 11, 17, 31, 27, 28, 29, 22, 39, 40, 12, 5, 10, 41, 9, 36, 15, 16, 37, 38, 26] \n",
            "\n",
            "\t****Encontrada mejor solucion: 3402 [0, 31, 7, 30, 23, 38, 24, 21, 9, 40, 29, 28, 41, 4, 13, 32, 27, 3, 11, 15, 36, 6, 26, 33, 20, 2, 19, 16, 14, 37, 17, 5, 39, 22, 12, 1, 35, 34, 18, 25, 10, 8] \n",
            "\n",
            "\t****Encontrada mejor solucion: 3336 [0, 12, 18, 5, 2, 30, 6, 15, 16, 14, 4, 9, 39, 21, 11, 13, 1, 3, 26, 37, 29, 20, 32, 33, 36, 7, 17, 27, 25, 19, 10, 41, 35, 31, 38, 22, 28, 34, 24, 40, 23, 8] \n",
            "\n",
            "\t****Encontrada mejor solucion: 3322 [0, 12, 18, 5, 2, 30, 1, 15, 16, 14, 4, 9, 39, 21, 11, 13, 6, 3, 26, 17, 29, 20, 32, 33, 36, 7, 37, 27, 25, 19, 10, 41, 35, 31, 38, 22, 28, 34, 24, 40, 23, 8] \n",
            "\n",
            "\t****Encontrada mejor solucion: 3234 [0, 12, 18, 5, 25, 8, 1, 15, 16, 14, 37, 39, 9, 34, 11, 13, 6, 3, 26, 17, 7, 20, 32, 33, 36, 29, 2, 27, 4, 19, 10, 30, 35, 31, 38, 22, 28, 21, 24, 40, 23, 41] \n",
            "\n",
            "\t****Encontrada mejor solucion: 3206 [0, 6, 37, 13, 41, 29, 9, 8, 39, 24, 21, 22, 34, 40, 38, 35, 31, 20, 12, 18, 26, 10, 5, 19, 14, 16, 30, 33, 28, 3, 4, 27, 32, 1, 2, 15, 23, 25, 11, 36, 17, 7] \n",
            "\n",
            "\t****Encontrada mejor solucion: 3179 [0, 7, 6, 13, 19, 2, 12, 23, 39, 24, 21, 20, 22, 32, 18, 25, 41, 40, 9, 38, 29, 10, 5, 11, 14, 31, 34, 33, 28, 30, 4, 15, 37, 16, 3, 27, 8, 35, 36, 1, 17, 26] \n",
            "\n",
            "\t****Encontrada mejor solucion: 3169 [0, 34, 3, 5, 26, 6, 4, 29, 7, 31, 20, 17, 35, 33, 30, 11, 24, 9, 1, 40, 10, 13, 19, 16, 36, 37, 27, 32, 8, 28, 21, 39, 38, 22, 23, 41, 25, 14, 15, 18, 12, 2] \n",
            "\n",
            "\t****Encontrada mejor solucion: 3165 [0, 33, 20, 1, 7, 14, 16, 15, 37, 17, 9, 21, 5, 10, 39, 22, 38, 28, 24, 27, 32, 30, 8, 41, 3, 35, 36, 29, 18, 31, 34, 23, 40, 11, 25, 12, 4, 13, 19, 26, 6, 2] \n",
            "\n",
            "\t****Encontrada mejor solucion: 3148 [0, 33, 20, 4, 6, 14, 16, 15, 37, 17, 9, 7, 2, 10, 18, 22, 32, 34, 38, 29, 24, 8, 11, 41, 31, 35, 36, 26, 25, 3, 27, 23, 40, 39, 21, 12, 1, 13, 19, 5, 28, 30] \n",
            "\n",
            "\t****Encontrada mejor solucion: 3057 [0, 33, 20, 4, 6, 14, 16, 15, 37, 17, 9, 7, 2, 10, 18, 22, 32, 34, 38, 29, 23, 8, 11, 41, 31, 35, 36, 26, 25, 3, 27, 24, 40, 39, 21, 12, 1, 13, 19, 5, 28, 30] \n",
            "\n",
            "\t****Encontrada mejor solucion: 3016 [0, 37, 4, 29, 22, 12, 11, 25, 5, 14, 35, 31, 36, 15, 16, 7, 32, 9, 23, 21, 40, 24, 39, 3, 6, 38, 8, 30, 20, 33, 34, 27, 1, 19, 17, 10, 26, 28, 41, 2, 13, 18] \n",
            "\n",
            "\t****Encontrada mejor solucion: 3012 [0, 17, 4, 29, 22, 12, 11, 25, 5, 14, 36, 31, 35, 15, 16, 7, 32, 9, 23, 21, 40, 24, 39, 3, 6, 38, 8, 28, 20, 33, 34, 27, 1, 19, 37, 10, 26, 30, 41, 2, 13, 18] \n",
            "\n",
            "\t****Encontrada mejor solucion: 2949 [0, 35, 22, 29, 23, 12, 11, 25, 5, 14, 36, 31, 17, 15, 16, 7, 32, 38, 30, 21, 40, 24, 39, 19, 6, 18, 8, 9, 20, 33, 34, 27, 1, 3, 28, 10, 37, 4, 2, 41, 13, 26] \n",
            "\n",
            "\t****Encontrada mejor solucion: 2947 [0, 35, 22, 29, 23, 12, 11, 25, 5, 14, 17, 31, 36, 15, 16, 7, 32, 38, 30, 21, 40, 24, 39, 19, 6, 18, 8, 9, 20, 33, 34, 27, 1, 3, 28, 10, 37, 4, 2, 41, 13, 26] \n",
            "\n",
            "\t****Encontrada mejor solucion: 2938 [0, 19, 27, 28, 35, 25, 11, 23, 12, 2, 7, 1, 36, 15, 16, 31, 32, 8, 39, 21, 24, 40, 41, 18, 26, 6, 13, 14, 20, 33, 34, 17, 37, 3, 4, 30, 29, 38, 22, 9, 5, 10] \n",
            "\n",
            "\t****Encontrada mejor solucion: 2934 [0, 36, 33, 20, 10, 25, 12, 18, 26, 37, 7, 31, 35, 14, 15, 19, 16, 13, 4, 3, 27, 34, 38, 39, 40, 21, 29, 32, 9, 11, 23, 41, 5, 1, 17, 22, 24, 2, 8, 6, 30, 28] \n",
            "\n",
            "\t****Encontrada mejor solucion: 2862 [0, 31, 33, 20, 10, 25, 12, 18, 26, 37, 7, 36, 35, 14, 15, 19, 16, 13, 4, 3, 27, 34, 38, 39, 40, 21, 29, 32, 9, 11, 23, 41, 5, 1, 17, 22, 24, 2, 8, 6, 30, 28] \n",
            "\n",
            "\t****Encontrada mejor solucion: 2855 [0, 31, 20, 33, 10, 25, 12, 18, 26, 7, 37, 36, 35, 14, 15, 19, 16, 13, 4, 6, 30, 29, 38, 22, 9, 11, 27, 32, 40, 21, 23, 41, 5, 1, 17, 39, 24, 2, 8, 3, 34, 28] \n",
            "\n",
            "\t****Encontrada mejor solucion: 2835 [0, 31, 20, 33, 10, 25, 12, 18, 26, 7, 37, 36, 35, 14, 15, 19, 16, 13, 4, 6, 30, 29, 38, 22, 9, 11, 27, 32, 40, 24, 23, 41, 5, 1, 17, 39, 21, 2, 8, 3, 34, 28] \n",
            "\n",
            "\t****Encontrada mejor solucion: 2829 [0, 31, 20, 33, 10, 25, 12, 18, 26, 7, 37, 36, 35, 14, 15, 19, 16, 13, 4, 6, 30, 29, 38, 22, 9, 11, 28, 32, 40, 24, 23, 41, 5, 1, 17, 39, 21, 2, 8, 3, 34, 27] \n",
            "\n",
            "\t****Encontrada mejor solucion: 2814 [0, 31, 20, 33, 10, 25, 12, 18, 26, 7, 37, 36, 35, 14, 15, 19, 16, 13, 4, 6, 11, 29, 38, 22, 9, 30, 28, 32, 40, 24, 23, 41, 5, 1, 17, 39, 21, 2, 8, 3, 34, 27] \n",
            "\n",
            "\t****Encontrada mejor solucion: 2782 [0, 31, 20, 33, 10, 25, 12, 18, 26, 7, 37, 36, 35, 14, 15, 19, 16, 13, 4, 6, 11, 29, 38, 22, 9, 30, 28, 32, 40, 24, 23, 41, 5, 1, 3, 39, 21, 2, 8, 17, 34, 27] \n",
            "\n",
            "\t****Encontrada mejor solucion: 2780 [0, 31, 20, 33, 10, 25, 12, 18, 26, 7, 37, 36, 35, 14, 15, 19, 16, 13, 4, 6, 11, 29, 38, 22, 9, 30, 28, 34, 40, 24, 23, 41, 5, 1, 3, 39, 21, 2, 8, 17, 32, 27] \n",
            "\n",
            "\t****Encontrada mejor solucion: 2754 [0, 31, 20, 17, 10, 25, 12, 18, 26, 7, 37, 36, 35, 14, 15, 19, 16, 13, 4, 6, 11, 8, 38, 22, 9, 30, 28, 34, 40, 24, 23, 41, 5, 1, 3, 39, 21, 2, 29, 33, 32, 27] \n",
            "\n",
            "\t****Encontrada mejor solucion: 2721 [0, 31, 20, 17, 10, 25, 12, 18, 26, 7, 37, 36, 35, 14, 15, 19, 16, 13, 4, 6, 11, 8, 38, 22, 9, 30, 28, 34, 40, 24, 23, 41, 5, 1, 29, 39, 21, 2, 3, 33, 32, 27] \n",
            "\n",
            "\t****Encontrada mejor solucion: 2705 [0, 6, 26, 11, 18, 16, 17, 35, 36, 22, 39, 40, 21, 12, 29, 30, 1, 37, 15, 7, 5, 3, 28, 38, 24, 23, 25, 41, 9, 8, 10, 4, 33, 34, 2, 13, 19, 14, 32, 27, 20, 31] \n",
            "\n",
            "\t****Encontrada mejor solucion: 2654 [0, 6, 26, 11, 18, 16, 17, 35, 36, 22, 39, 40, 21, 12, 29, 30, 32, 37, 15, 7, 5, 3, 28, 38, 24, 23, 25, 41, 9, 8, 10, 4, 33, 34, 2, 13, 19, 14, 1, 27, 20, 31] \n",
            "\n",
            "\t****Encontrada mejor solucion: 2617 [0, 7, 19, 5, 11, 25, 10, 12, 38, 22, 24, 40, 23, 41, 32, 33, 34, 20, 27, 2, 21, 39, 30, 9, 8, 29, 28, 13, 1, 31, 3, 18, 26, 4, 35, 17, 16, 15, 37, 36, 6, 14] \n",
            "\n",
            "\t****Encontrada mejor solucion: 2559 [0, 7, 19, 5, 11, 25, 10, 12, 38, 22, 24, 40, 23, 41, 32, 33, 34, 20, 27, 2, 21, 39, 30, 9, 8, 29, 28, 13, 15, 31, 3, 18, 26, 4, 1, 17, 16, 6, 37, 36, 35, 14] \n",
            "\n",
            "\t****Encontrada mejor solucion: 2506 [0, 8, 41, 12, 11, 10, 25, 9, 24, 39, 40, 23, 21, 3, 14, 37, 31, 17, 36, 16, 15, 19, 5, 13, 4, 1, 6, 29, 26, 18, 7, 38, 22, 27, 30, 32, 34, 35, 20, 33, 28, 2] \n",
            "\n",
            "\t****Encontrada mejor solucion: 2486 [0, 8, 41, 12, 11, 10, 25, 9, 24, 39, 40, 23, 21, 3, 36, 37, 31, 17, 14, 16, 15, 19, 5, 13, 4, 1, 6, 29, 26, 18, 7, 38, 22, 27, 30, 32, 34, 33, 20, 35, 28, 2] \n",
            "\n",
            "\t****Encontrada mejor solucion: 2483 [0, 16, 37, 7, 27, 23, 40, 41, 21, 24, 22, 38, 26, 19, 14, 5, 13, 10, 18, 11, 25, 39, 9, 32, 30, 29, 28, 3, 6, 12, 8, 33, 34, 20, 17, 31, 35, 36, 15, 4, 2, 1] \n",
            "\n",
            "\t****Encontrada mejor solucion: 2470 [0, 16, 37, 7, 27, 39, 40, 41, 21, 24, 22, 38, 26, 19, 14, 5, 13, 10, 18, 11, 25, 23, 9, 32, 30, 28, 29, 6, 3, 12, 8, 33, 34, 20, 17, 31, 35, 36, 15, 4, 2, 1] \n",
            "\n",
            "\t****Encontrada mejor solucion: 2468 [0, 16, 19, 14, 30, 38, 40, 24, 39, 21, 9, 23, 11, 41, 29, 22, 7, 37, 15, 13, 25, 12, 26, 8, 28, 1, 6, 4, 18, 5, 32, 34, 33, 20, 31, 17, 35, 36, 10, 27, 2, 3] \n",
            "\n",
            "\t****Encontrada mejor solucion: 2455 [0, 16, 19, 14, 30, 38, 40, 24, 39, 21, 9, 23, 11, 41, 29, 22, 7, 37, 15, 13, 25, 12, 4, 8, 28, 1, 6, 26, 18, 5, 32, 34, 33, 20, 31, 17, 35, 36, 10, 27, 2, 3] \n",
            "\n",
            "\t****Encontrada mejor solucion: 2433 [0, 30, 6, 38, 39, 24, 40, 21, 22, 29, 9, 41, 8, 10, 4, 17, 14, 37, 19, 13, 12, 25, 11, 18, 26, 27, 23, 2, 3, 7, 35, 34, 33, 20, 36, 31, 32, 28, 5, 15, 16, 1] \n",
            "\n",
            "\t****Encontrada mejor solucion: 2415 [0, 30, 4, 38, 39, 24, 40, 21, 22, 29, 9, 41, 8, 10, 1, 17, 14, 37, 19, 13, 12, 25, 11, 18, 26, 27, 23, 2, 3, 7, 35, 34, 33, 20, 36, 31, 32, 28, 5, 15, 16, 6] \n",
            "\n",
            "\t****Encontrada mejor solucion: 2385 [0, 30, 32, 38, 39, 24, 40, 21, 22, 29, 9, 41, 8, 10, 1, 17, 14, 37, 19, 13, 12, 25, 11, 18, 26, 27, 23, 2, 3, 7, 35, 34, 33, 20, 36, 31, 4, 28, 5, 15, 16, 6] \n",
            "\n",
            "\t****Encontrada mejor solucion: 2365 [0, 28, 32, 38, 39, 24, 40, 21, 22, 9, 29, 10, 8, 2, 7, 37, 14, 4, 19, 13, 26, 25, 11, 18, 12, 41, 23, 27, 3, 1, 35, 34, 33, 20, 36, 31, 17, 30, 5, 15, 16, 6] \n",
            "\n",
            "\t****Encontrada mejor solucion: 2362 [0, 28, 32, 38, 39, 24, 40, 21, 22, 9, 29, 10, 8, 2, 7, 37, 14, 26, 19, 13, 4, 25, 11, 18, 12, 41, 23, 27, 3, 1, 35, 34, 33, 20, 36, 31, 17, 30, 16, 15, 5, 6] \n",
            "\n",
            "\t****Encontrada mejor solucion: 2277 [0, 28, 32, 38, 24, 40, 39, 21, 22, 9, 29, 30, 8, 16, 15, 37, 14, 26, 19, 13, 25, 10, 11, 18, 12, 41, 23, 27, 3, 1, 35, 34, 33, 20, 36, 31, 17, 4, 2, 7, 5, 6] \n",
            "\n",
            "\t****Encontrada mejor solucion: 2252 [0, 28, 32, 38, 24, 40, 39, 21, 22, 9, 29, 30, 8, 16, 15, 37, 14, 26, 19, 13, 25, 10, 11, 18, 12, 41, 23, 27, 3, 1, 35, 34, 33, 20, 36, 31, 17, 4, 2, 6, 5, 7] \n",
            "\n",
            "\t****Encontrada mejor solucion: 2235 [0, 36, 32, 39, 24, 40, 21, 9, 22, 38, 29, 30, 1, 16, 14, 37, 15, 19, 13, 26, 25, 10, 11, 18, 12, 23, 41, 27, 3, 8, 28, 34, 33, 20, 35, 31, 17, 4, 5, 6, 7, 2] \n",
            "\n",
            "\t****Encontrada mejor solucion: 2185 [0, 2, 32, 39, 24, 40, 21, 9, 22, 38, 29, 30, 1, 16, 14, 37, 15, 19, 13, 26, 25, 10, 11, 18, 12, 23, 41, 27, 3, 8, 28, 34, 33, 20, 35, 31, 17, 4, 5, 6, 7, 36] \n",
            "\n",
            "\t****Encontrada mejor solucion: 2127 [0, 2, 32, 39, 24, 40, 21, 9, 22, 38, 29, 30, 1, 16, 14, 37, 15, 19, 13, 26, 25, 10, 11, 18, 12, 23, 41, 27, 3, 8, 28, 34, 33, 20, 35, 31, 17, 36, 5, 6, 7, 4] \n",
            "\n",
            "\t****Encontrada mejor solucion: 2120 [0, 9, 41, 23, 21, 24, 40, 38, 29, 22, 39, 30, 28, 3, 20, 33, 34, 32, 18, 12, 25, 10, 8, 11, 13, 26, 6, 5, 16, 19, 1, 27, 4, 31, 36, 35, 17, 37, 14, 15, 7, 2] \n",
            "\n",
            "\t****Encontrada mejor solucion: 2109 [0, 9, 8, 23, 21, 24, 40, 29, 38, 22, 39, 30, 28, 3, 20, 33, 34, 32, 18, 12, 25, 41, 10, 11, 13, 16, 6, 5, 26, 19, 1, 27, 4, 31, 36, 35, 17, 37, 14, 15, 7, 2] \n",
            "\n",
            "\t****Encontrada mejor solucion: 2099 [0, 9, 8, 23, 21, 24, 40, 29, 38, 22, 39, 30, 28, 3, 20, 33, 34, 32, 18, 12, 25, 41, 10, 11, 13, 16, 6, 5, 26, 19, 1, 27, 4, 31, 36, 35, 17, 37, 15, 14, 7, 2] \n",
            "\n",
            "\t****Encontrada mejor solucion: 2087 [0, 7, 5, 6, 28, 22, 39, 21, 40, 24, 38, 4, 19, 26, 32, 20, 33, 34, 27, 9, 23, 41, 25, 10, 18, 12, 11, 3, 2, 30, 29, 8, 1, 31, 36, 35, 17, 37, 15, 16, 14, 13] \n",
            "\n",
            "\t****Encontrada mejor solucion: 2076 [0, 7, 6, 3, 9, 22, 39, 21, 40, 24, 38, 4, 28, 29, 32, 20, 33, 34, 2, 8, 41, 23, 25, 10, 18, 12, 11, 30, 27, 5, 26, 19, 1, 17, 36, 35, 31, 37, 15, 16, 14, 13] \n",
            "\n",
            "\t****Encontrada mejor solucion: 2061 [0, 7, 6, 3, 9, 22, 39, 21, 40, 24, 38, 4, 28, 29, 32, 20, 33, 34, 2, 8, 41, 23, 25, 10, 18, 12, 11, 30, 27, 5, 26, 19, 1, 17, 31, 35, 36, 37, 15, 16, 14, 13] \n",
            "\n",
            "\t****Encontrada mejor solucion: 2060 [0, 7, 6, 19, 9, 22, 39, 21, 40, 24, 38, 2, 28, 29, 32, 20, 33, 34, 4, 8, 41, 23, 25, 10, 18, 12, 11, 30, 27, 3, 26, 5, 1, 17, 31, 35, 36, 37, 15, 16, 14, 13] \n",
            "\n",
            "\t****Encontrada mejor solucion: 2023 [0, 1, 6, 19, 9, 22, 39, 21, 40, 24, 38, 2, 28, 27, 34, 20, 33, 32, 4, 8, 41, 23, 25, 10, 18, 12, 11, 30, 29, 3, 26, 5, 7, 31, 17, 35, 36, 37, 15, 16, 14, 13] \n",
            "\n",
            "\t****Encontrada mejor solucion: 2006 [0, 1, 6, 19, 9, 22, 39, 21, 40, 24, 38, 2, 28, 27, 34, 20, 33, 32, 4, 8, 41, 23, 25, 10, 18, 12, 11, 29, 30, 3, 26, 5, 7, 31, 17, 35, 36, 37, 15, 16, 14, 13] \n",
            "\n",
            "\t****Encontrada mejor solucion: 2003 [0, 1, 19, 5, 9, 22, 39, 21, 40, 24, 38, 2, 28, 27, 34, 20, 33, 32, 4, 11, 41, 23, 25, 12, 18, 10, 8, 29, 30, 3, 26, 6, 7, 31, 17, 35, 36, 37, 15, 16, 14, 13] \n",
            "\n",
            "\t****Encontrada mejor solucion: 1991 [0, 6, 13, 5, 26, 9, 39, 21, 40, 24, 29, 28, 38, 22, 34, 20, 33, 32, 4, 10, 41, 23, 25, 12, 18, 11, 8, 30, 27, 1, 2, 3, 7, 37, 31, 35, 36, 17, 15, 16, 14, 19] \n",
            "\n",
            "\t****Encontrada mejor solucion: 1977 [0, 6, 1, 3, 29, 8, 9, 21, 24, 40, 39, 38, 22, 25, 12, 26, 13, 19, 5, 4, 18, 11, 10, 23, 41, 30, 28, 33, 32, 34, 20, 2, 27, 7, 17, 36, 35, 31, 37, 16, 14, 15] \n",
            "\n",
            "\t****Encontrada mejor solucion: 1962 [0, 6, 1, 3, 29, 8, 9, 21, 24, 40, 39, 38, 22, 25, 12, 26, 13, 19, 5, 4, 18, 11, 10, 23, 41, 30, 28, 33, 32, 34, 20, 2, 27, 7, 17, 31, 35, 36, 37, 16, 14, 15] \n",
            "\n",
            "\t****Encontrada mejor solucion: 1881 [0, 6, 1, 2, 3, 29, 9, 21, 39, 40, 24, 38, 22, 25, 12, 26, 13, 19, 5, 4, 18, 11, 10, 23, 41, 8, 28, 30, 32, 34, 20, 33, 27, 7, 17, 31, 35, 36, 37, 16, 14, 15] \n",
            "\n",
            "\t****Encontrada mejor solucion: 1861 [0, 6, 1, 2, 27, 29, 9, 21, 39, 40, 24, 38, 22, 25, 12, 26, 13, 19, 5, 4, 18, 11, 10, 23, 41, 8, 28, 30, 32, 34, 20, 33, 3, 7, 17, 31, 35, 36, 37, 16, 14, 15] \n",
            "\n",
            "\t****Encontrada mejor solucion: 1860 [0, 6, 1, 2, 27, 29, 9, 21, 39, 40, 24, 38, 22, 25, 12, 26, 13, 19, 5, 4, 18, 11, 10, 23, 41, 8, 28, 30, 32, 34, 20, 33, 3, 7, 17, 31, 35, 36, 37, 14, 16, 15] \n",
            "\n",
            "\t****Encontrada mejor solucion: 1851 [0, 6, 1, 2, 27, 29, 9, 21, 39, 40, 24, 38, 22, 25, 11, 26, 13, 19, 5, 4, 18, 12, 10, 23, 41, 8, 28, 30, 32, 34, 20, 33, 3, 7, 17, 31, 35, 36, 37, 14, 16, 15] \n",
            "\n",
            "\t****Encontrada mejor solucion: 1849 [0, 6, 1, 27, 2, 29, 9, 21, 39, 40, 24, 38, 22, 25, 11, 26, 13, 19, 5, 4, 18, 12, 10, 23, 41, 8, 28, 30, 32, 34, 20, 33, 3, 7, 17, 31, 35, 36, 37, 14, 16, 15] \n",
            "\n",
            "\t****Encontrada mejor solucion: 1845 [0, 6, 3, 2, 27, 29, 9, 21, 39, 40, 24, 38, 22, 12, 11, 26, 13, 19, 5, 18, 4, 25, 10, 23, 41, 8, 30, 28, 32, 34, 20, 33, 1, 7, 17, 31, 35, 36, 37, 15, 16, 14] \n",
            "\n",
            "\t****Encontrada mejor solucion: 1839 [0, 6, 3, 2, 27, 29, 9, 21, 39, 40, 24, 38, 22, 25, 11, 26, 13, 19, 5, 18, 4, 12, 10, 23, 41, 8, 30, 28, 32, 34, 20, 33, 1, 7, 17, 31, 35, 36, 37, 15, 16, 14] \n",
            "\n",
            "\t****Encontrada mejor solucion: 1838 [0, 6, 3, 27, 2, 29, 9, 21, 39, 40, 24, 38, 22, 25, 11, 26, 13, 19, 5, 18, 4, 12, 10, 23, 41, 8, 30, 28, 32, 34, 20, 33, 1, 7, 17, 31, 35, 36, 37, 15, 16, 14] \n",
            "\n",
            "\t****Encontrada mejor solucion: 1828 [0, 3, 27, 4, 28, 29, 22, 39, 24, 40, 21, 9, 38, 30, 2, 1, 6, 26, 18, 25, 41, 8, 23, 10, 11, 12, 13, 5, 32, 33, 34, 20, 35, 36, 31, 17, 14, 7, 15, 37, 16, 19] \n",
            "\n",
            "\t****Encontrada mejor solucion: 1824 [0, 3, 27, 4, 28, 29, 22, 39, 24, 40, 21, 9, 38, 30, 2, 1, 6, 26, 18, 25, 41, 8, 23, 10, 11, 12, 13, 5, 32, 20, 34, 33, 35, 36, 31, 17, 14, 7, 15, 37, 16, 19] \n",
            "\n",
            "\t****Encontrada mejor solucion: 1814 [0, 3, 27, 4, 28, 29, 22, 39, 24, 40, 21, 9, 38, 30, 2, 1, 6, 26, 18, 25, 41, 23, 8, 10, 11, 12, 13, 19, 32, 20, 34, 33, 35, 36, 31, 17, 5, 7, 15, 37, 14, 16] \n",
            "\n",
            "\t****Encontrada mejor solucion: 1810 [0, 3, 27, 4, 28, 29, 22, 39, 21, 24, 40, 9, 38, 30, 2, 1, 6, 26, 18, 25, 41, 23, 8, 10, 11, 12, 13, 19, 32, 34, 20, 33, 35, 36, 31, 17, 5, 7, 15, 37, 14, 16] \n",
            "\n",
            "\t****Encontrada mejor solucion: 1802 [0, 3, 27, 4, 28, 30, 22, 39, 21, 24, 40, 9, 38, 29, 2, 1, 6, 26, 18, 25, 41, 23, 8, 10, 11, 12, 13, 19, 32, 34, 20, 33, 35, 36, 31, 17, 16, 7, 15, 37, 14, 5] \n",
            "\n",
            "\t****Encontrada mejor solucion: 1788 [0, 3, 27, 2, 29, 30, 22, 39, 21, 24, 40, 9, 38, 28, 4, 1, 6, 26, 18, 25, 41, 23, 8, 10, 11, 12, 13, 19, 32, 34, 20, 33, 35, 36, 31, 17, 14, 7, 15, 37, 16, 5] \n",
            "\n",
            "\t****Encontrada mejor solucion: 1760 [0, 3, 27, 2, 29, 30, 22, 39, 21, 24, 40, 9, 38, 28, 4, 1, 6, 26, 18, 25, 41, 23, 8, 10, 11, 12, 13, 19, 32, 34, 20, 33, 35, 36, 31, 17, 14, 7, 37, 15, 16, 5] \n",
            "\n",
            "\t****Encontrada mejor solucion: 1738 [0, 27, 2, 28, 30, 22, 38, 39, 24, 40, 21, 9, 29, 3, 1, 4, 6, 26, 18, 10, 25, 8, 41, 23, 12, 11, 19, 7, 32, 34, 33, 20, 35, 36, 31, 17, 16, 14, 37, 15, 13, 5] \n",
            "\n",
            "\t****Encontrada mejor solucion: 1716 [0, 27, 2, 28, 30, 22, 38, 39, 24, 40, 21, 9, 29, 3, 4, 1, 6, 26, 11, 10, 25, 8, 41, 23, 12, 18, 5, 7, 32, 34, 33, 20, 35, 36, 31, 17, 16, 14, 37, 15, 13, 19] \n",
            "\n",
            "\t****Encontrada mejor solucion: 1694 [0, 27, 2, 28, 30, 22, 38, 39, 24, 40, 21, 9, 29, 3, 4, 1, 6, 26, 10, 11, 25, 12, 41, 23, 8, 18, 5, 7, 32, 34, 33, 20, 35, 36, 31, 17, 37, 14, 16, 15, 13, 19] \n",
            "\n",
            "\t****Encontrada mejor solucion: 1659 [0, 27, 2, 28, 30, 22, 38, 39, 24, 40, 21, 9, 29, 3, 4, 1, 6, 26, 10, 25, 11, 12, 41, 23, 8, 18, 5, 7, 32, 34, 33, 20, 35, 36, 31, 17, 37, 14, 16, 15, 13, 19] \n",
            "\n",
            "\t****Encontrada mejor solucion: 1653 [0, 28, 2, 27, 30, 22, 38, 39, 24, 40, 21, 9, 29, 4, 3, 1, 6, 26, 12, 11, 25, 10, 41, 23, 8, 18, 5, 7, 32, 34, 33, 20, 36, 35, 31, 17, 37, 16, 15, 14, 19, 13] \n",
            "\n",
            "\t****Encontrada mejor solucion: 1633 [0, 27, 2, 28, 30, 22, 38, 39, 21, 40, 24, 9, 29, 4, 3, 1, 6, 26, 12, 11, 25, 10, 41, 23, 8, 18, 5, 7, 32, 34, 33, 20, 36, 35, 31, 17, 37, 16, 15, 14, 19, 13] \n",
            "\n",
            "\t****Encontrada mejor solucion: 1608 [0, 27, 2, 28, 30, 38, 22, 39, 21, 40, 24, 9, 29, 4, 3, 1, 6, 26, 12, 11, 25, 10, 41, 23, 8, 18, 5, 7, 32, 34, 33, 20, 36, 35, 31, 17, 37, 16, 15, 14, 19, 13] \n",
            "\n",
            "\t****Encontrada mejor solucion: 1602 [0, 4, 3, 28, 30, 38, 22, 39, 21, 40, 24, 9, 29, 2, 27, 6, 26, 18, 12, 11, 25, 10, 41, 23, 8, 13, 5, 7, 32, 34, 33, 20, 31, 35, 36, 17, 37, 15, 16, 14, 19, 1] \n",
            "\n",
            "\t****Encontrada mejor solucion: 1595 [0, 4, 27, 28, 30, 38, 22, 39, 21, 40, 24, 9, 29, 2, 3, 6, 26, 18, 12, 11, 25, 10, 41, 23, 8, 13, 5, 7, 32, 34, 33, 20, 31, 35, 36, 17, 37, 15, 16, 14, 19, 1] \n",
            "\n",
            "\t****Encontrada mejor solucion: 1583 [0, 4, 27, 28, 30, 38, 22, 39, 21, 24, 40, 9, 29, 2, 3, 6, 26, 18, 12, 11, 25, 10, 41, 23, 8, 13, 5, 7, 32, 34, 33, 20, 31, 35, 36, 17, 37, 15, 16, 14, 19, 1] \n",
            "\n",
            "\t****Encontrada mejor solucion: 1579 [0, 3, 2, 27, 30, 38, 22, 39, 21, 24, 40, 9, 29, 28, 4, 6, 26, 18, 12, 11, 10, 8, 23, 41, 25, 13, 5, 1, 32, 34, 33, 20, 36, 35, 31, 17, 37, 16, 15, 14, 19, 7] \n",
            "\n",
            "\t****Encontrada mejor solucion: 1563 [0, 3, 27, 28, 30, 38, 22, 39, 24, 40, 21, 9, 29, 2, 4, 6, 26, 18, 12, 11, 25, 41, 23, 8, 10, 13, 5, 1, 32, 34, 33, 20, 31, 35, 36, 17, 37, 19, 14, 16, 15, 7] \n",
            "\n",
            "\t****Encontrada mejor solucion: 1560 [0, 3, 27, 28, 30, 38, 22, 39, 21, 40, 24, 9, 29, 2, 4, 6, 26, 18, 12, 11, 25, 41, 23, 8, 10, 13, 5, 1, 32, 34, 33, 20, 36, 35, 31, 17, 37, 15, 14, 16, 19, 7] \n",
            "\n",
            "\t****Encontrada mejor solucion: 1554 [0, 3, 27, 28, 30, 38, 22, 39, 21, 40, 24, 9, 29, 2, 4, 6, 26, 18, 12, 11, 25, 41, 23, 8, 10, 13, 5, 1, 32, 34, 33, 20, 31, 35, 36, 17, 37, 15, 14, 16, 19, 7] \n",
            "\n",
            "\t****Encontrada mejor solucion: 1542 [0, 3, 27, 28, 30, 38, 22, 39, 21, 24, 40, 9, 29, 2, 4, 6, 26, 18, 12, 11, 25, 41, 23, 8, 10, 13, 5, 1, 32, 34, 33, 20, 31, 35, 36, 17, 37, 15, 14, 16, 19, 7] \n",
            "\n",
            "\t****Encontrada mejor solucion: 1540 [0, 2, 27, 28, 30, 38, 22, 39, 21, 24, 40, 9, 29, 4, 6, 5, 26, 18, 12, 11, 25, 41, 23, 8, 10, 3, 1, 7, 32, 34, 33, 20, 31, 35, 36, 17, 37, 15, 16, 14, 13, 19] \n",
            "\n",
            "\t****Encontrada mejor solucion: 1528 [0, 2, 27, 28, 30, 38, 22, 39, 21, 24, 40, 9, 29, 4, 6, 5, 26, 18, 12, 11, 25, 41, 23, 8, 10, 3, 1, 7, 32, 34, 33, 20, 31, 35, 36, 17, 37, 15, 16, 14, 19, 13] \n",
            "\n",
            "\t****Encontrada mejor solucion: 1527 [0, 2, 27, 28, 30, 38, 22, 39, 21, 24, 40, 9, 29, 3, 6, 5, 26, 18, 12, 11, 25, 41, 23, 8, 10, 4, 1, 7, 32, 34, 33, 20, 31, 35, 36, 17, 37, 15, 16, 14, 19, 13] \n",
            "\n",
            "\t****Encontrada mejor solucion: 1525 [0, 27, 2, 28, 30, 38, 22, 39, 21, 24, 40, 9, 29, 3, 6, 5, 26, 18, 12, 11, 25, 41, 23, 8, 10, 4, 1, 7, 32, 34, 33, 20, 31, 35, 36, 17, 37, 15, 16, 14, 19, 13] \n",
            "\n",
            "\t****Encontrada mejor solucion: 1508 [0, 3, 27, 28, 30, 38, 22, 39, 21, 24, 40, 9, 29, 2, 6, 5, 26, 18, 12, 11, 25, 41, 23, 8, 10, 4, 1, 7, 32, 34, 33, 20, 35, 36, 31, 17, 37, 15, 16, 14, 19, 13] \n",
            "\n",
            "\t****Encontrada mejor solucion: 1507 [0, 27, 2, 28, 30, 38, 22, 39, 21, 24, 40, 9, 29, 3, 6, 5, 26, 18, 12, 11, 25, 41, 23, 8, 10, 4, 1, 7, 32, 34, 33, 20, 35, 36, 31, 17, 37, 15, 16, 14, 19, 13] \n",
            "\n",
            "La mejor solución encontrada es : 1507 [0, 27, 2, 28, 30, 38, 22, 39, 21, 24, 40, 9, 29, 3, 6, 5, 26, 18, 12, 11, 25, 41, 23, 8, 10, 4, 1, 7, 32, 34, 33, 20, 35, 36, 31, 17, 37, 15, 16, 14, 19, 13]\n"
          ],
          "name": "stdout"
        }
      ]
    },
    {
      "cell_type": "markdown",
      "metadata": {
        "id": "T5GwbTKN9zb8",
        "colab_type": "text"
      },
      "source": [
        "## Colonia de hormigas"
      ]
    },
    {
      "cell_type": "code",
      "metadata": {
        "id": "SMHJ73CR72rF",
        "colab_type": "code",
        "outputId": "78cb5072-d07b-48f2-a3c5-03454cef0d91",
        "colab": {
          "base_uri": "https://localhost:8080/",
          "height": 71
        }
      },
      "source": [
        "def Add_Nodo(problem, H ,T ) :\n",
        "  #Establecer una una funcion de probabilidad para \n",
        "  # añadir un nuevo nodo dependiendo de los nodos mas cercanos y de las feromonas depositadas\n",
        "  Nodos = list(problem.get_nodes())\n",
        "  return random.choice(   list(set(range(1,len(Nodos))) - set(H) )  )\n",
        "\n",
        "\n",
        "def Incrementa_Feromona(problem, T, H):\n",
        "  #Incrementar segun la calidad de la solución. Añadir una cantidad inversamente proporcional a la distancia total \n",
        "  for i in range(len(H)-1):\n",
        "    T[H[i]][H[i+1]] += 1000/distancia_total(H, problem)\n",
        "  return T\n",
        "\n",
        "def Evaporar_Feromonas(T):\n",
        "  #Podemos elegir diferentes funciones de evaporación dependiendo de la cantidad actual y de la suma total de feromonas depositadas,...\n",
        "  #Evapora 0.3 el valor de la feromona, sin que baje de 1\n",
        "  T = [[ max(T[i][j] - 0.3 , 1) for i in range(len(nodos)) ] for j in range(len(nodos))]\n",
        "  return T\n",
        "\n",
        "def hormigas(problem, N) :\n",
        "  #problem = datos del problema\n",
        "  #N = Número de agentes(hormigas)\n",
        "    \n",
        "  #Nodos\n",
        "  Nodos = list(problem.get_nodes())\n",
        "    #Aristas\n",
        "  Aristas = list(problem.get_edges()) \n",
        "  \n",
        "  #Inicializa las aristas con una cantidad inicial de feromonas:1\n",
        "  T = [[ 1 for _ in range(len(Nodos)) ] for _ in range(len(Nodos))]\n",
        "  \n",
        "  #Se generan los agentes(hormigas) que serán estructuras de caminos desde 0\n",
        "  Hormiga = [[0] for _ in range(N)]\n",
        "\n",
        "\n",
        "  #Recorre cada agente construyendo la solución\n",
        "  for h in range(N) :\n",
        "    #print(\"\\nAgente:\", h)\n",
        "    #Para cada agente se construye un camino\n",
        "    for i in range(len(Nodos)-1) :\n",
        "      \n",
        "      #Elige el siguiente nodo\n",
        "      Nuevo_Nodo = Add_Nodo(problem, Hormiga[h] ,T )\n",
        "      \n",
        "      Hormiga[h].append(Nuevo_Nodo)     \n",
        "    \n",
        "    #Incrementa feromonas en esa arista \n",
        "    T = Incrementa_Feromona(problem, T, Hormiga[h] )\n",
        "    #print(\"Feromonas(1)\", T)\n",
        "      \n",
        "    #Evapora Feromonas  \n",
        "    T = Evaporar_Feromonas(T)\n",
        "    #print(\"Feromonas(2)\", T)\n",
        "\n",
        "    #Seleccionamos el mejor agente\n",
        "  mejor_solucion = []\n",
        "  mejor_distancia = 10e100\n",
        "  for h in range(N) :\n",
        "    distancia_actual = distancia_total(Hormiga[h], problem)\n",
        "    if distancia_actual < mejor_distancia:\n",
        "      mejor_solucion = Hormiga[h]\n",
        "      mejor_distancia =distancia_actual\n",
        "  \n",
        "  \n",
        "  print(mejor_solucion)\n",
        "  print(mejor_distancia)\n",
        "\n",
        "hormigas(problem, 100)"
      ],
      "execution_count": 0,
      "outputs": [
        {
          "output_type": "stream",
          "text": [
            "[0, 7, 3, 14, 34, 38, 33, 29, 1, 36, 16, 35, 5, 41, 6, 15, 19, 8, 9, 24, 12, 13, 31, 20, 2, 17, 32, 28, 40, 26, 25, 23, 10, 37, 18, 11, 30, 27, 4, 22, 21, 39]\n",
            "3943\n"
          ],
          "name": "stdout"
        }
      ]
    }
  ]
}